{
 "cells": [
  {
   "cell_type": "code",
   "execution_count": 38,
   "id": "b97daecb",
   "metadata": {},
   "outputs": [],
   "source": [
    "import numpy as np\n",
    "import pandas as pd\n",
    "import matplotlib.pyplot as plt\n",
    "import datetime as dt\n",
    "from pandas_datareader import data as pdr\n",
    "import yfinance as yf\n",
    "import seaborn as sns\n",
    "yf.pdr_override()\n",
    "\n",
    "# Loading Algorithm\n",
    "\n",
    "from sklearn.linear_model import LinearRegression\n",
    "from sklearn.linear_model import LogisticRegression\n",
    "\n",
    "# Regularization\n",
    "from sklearn.linear_model import Lasso #because we are selecting features.\n",
    "from sklearn.linear_model import ElasticNet\n",
    "\n",
    "# Decision Tree\n",
    "from sklearn.tree import DecisionTreeRegressor #worst performer because there is no pruning?\n",
    "\n",
    "# ENSEMBLE\n",
    "\n",
    "## Bagging (bootstrap aggregation) #likely to overfit too because its underlying uses decision tree \n",
    "from sklearn.ensemble import RandomForestRegressor\n",
    "from sklearn.ensemble import ExtraTreesRegressor\n",
    "\n",
    "## Boosting\n",
    "from sklearn.ensemble import AdaBoostRegressor\n",
    "from sklearn.ensemble import GradientBoostingRegressor\n",
    "\n",
    "\n",
    "# for cross-validation\n",
    "from sklearn.model_selection import cross_val_score #perf, mean, variance and std error\n",
    "from sklearn.model_selection import KFold # we can tune it as hyperparameter\n",
    "from sklearn.model_selection import GridSearchCV\n",
    "\n",
    "# for assessment\n",
    "from sklearn import metrics\n",
    "from sklearn.metrics import mean_squared_error\n",
    "\n",
    "# for Feature Selection\n",
    "from sklearn.feature_selection import chi2, f_regression\n",
    "from sklearn.feature_selection import SelectKBest\n",
    "\n",
    "# KMeans\n",
    "from sklearn.cluster import KMeans\n",
    "\n",
    "#import dependency for time series modelling\n",
    "\n",
    "import statsmodels.tsa.arima.model as stats\n",
    "import statsmodels.api as sm\n",
    "\n",
    "from pandas.plotting import scatter_matrix #plot of correlation matrix and kernel density plotting\n",
    "\n",
    "# for Pre-processing (Feature Engineering)\n",
    "from sklearn.preprocessing import StandardScaler\n",
    "\n",
    "ignore warning"
   ]
  },
  {
   "cell_type": "code",
   "execution_count": 62,
   "id": "a76c1387",
   "metadata": {},
   "outputs": [
    {
     "name": "stdout",
     "output_type": "stream",
     "text": [
      "[*********************100%***********************]  1 of 1 completed\n",
      "[*********************100%***********************]  1 of 1 completed\n",
      "[*********************100%***********************]  1 of 1 completed\n"
     ]
    }
   ],
   "source": [
    "capital = 1e5\n",
    "start_date = dt.datetime(2004,11,1)\n",
    "end_date = dt.datetime(2023,11,1)\n",
    "\n",
    "spy = pdr.get_data_yahoo(\"SPY\", start = start_date, end = end_date)\n",
    "Y = np.log(spy[\"Adj Close\"]).diff(1)\n",
    "Y.name = \"Y_pred\"\n",
    "\n",
    "tnx_ticker = \"^TNX\"\n",
    "\n",
    "tnx_data = yf.download(tnx_ticker, start=start_date, end=end_date)\n",
    "\n",
    "X0 = np.log(tnx_data[\"Adj Close\"])\n",
    "X0 = X0.ffill()\n",
    "X0.name = \"10years futures\"\n",
    "\n",
    "vix_ticker = \"^VIX\"\n",
    "\n",
    "vix = yf.download(vix_ticker, start=start_date, end=end_date)\n",
    "\n",
    "X0_1 = np.log(vix[\"Adj Close\"])\n",
    "X0_1 = X0_1.ffill()\n",
    "X0_1.name = \"vix\"\n",
    "\n",
    "X1 = np.log(spy[\"Volume\"])\n",
    "X2 =\\\n",
    "(pd.concat([Y.\n",
    "            diff(i) \n",
    "            for i in [3,6,12]], \n",
    "                   axis = 1\n",
    "          )\n",
    "\n",
    ")\n",
    "X2.columns = [\"SPY_3\", \"SPY_6\", \"SPY_12\"]\n",
    "\n",
    "X3 =\\\n",
    "(\n",
    "    pd.concat([X1.shift(i)\n",
    "               #.diff(i) \n",
    "               for i in [3,6,12]],\n",
    "                      axis =1\n",
    "             )\n",
    ")\n",
    "X3.columns = [\"Volume_3\", \"Volume_6\", \"Volume_12\"]\n",
    "\n",
    "X =\\\n",
    "(\n",
    "        pd.concat([X0, X0_1, X1, X2, X3],\n",
    "                 axis = 1)\n",
    ")\n",
    "\n",
    "\n"
   ]
  },
  {
   "cell_type": "code",
   "execution_count": 101,
   "id": "41271335",
   "metadata": {},
   "outputs": [
    {
     "data": {
      "text/html": [
       "<div>\n",
       "<style scoped>\n",
       "    .dataframe tbody tr th:only-of-type {\n",
       "        vertical-align: middle;\n",
       "    }\n",
       "\n",
       "    .dataframe tbody tr th {\n",
       "        vertical-align: top;\n",
       "    }\n",
       "\n",
       "    .dataframe thead th {\n",
       "        text-align: right;\n",
       "    }\n",
       "</style>\n",
       "<table border=\"1\" class=\"dataframe\">\n",
       "  <thead>\n",
       "    <tr style=\"text-align: right;\">\n",
       "      <th></th>\n",
       "      <th>Open</th>\n",
       "      <th>High</th>\n",
       "      <th>Low</th>\n",
       "      <th>Close</th>\n",
       "      <th>Adj Close</th>\n",
       "      <th>Volume</th>\n",
       "    </tr>\n",
       "    <tr>\n",
       "      <th>Date</th>\n",
       "      <th></th>\n",
       "      <th></th>\n",
       "      <th></th>\n",
       "      <th></th>\n",
       "      <th></th>\n",
       "      <th></th>\n",
       "    </tr>\n",
       "  </thead>\n",
       "  <tbody>\n",
       "    <tr>\n",
       "      <th>2004-11-01</th>\n",
       "      <td>113.559998</td>\n",
       "      <td>113.839996</td>\n",
       "      <td>113.199997</td>\n",
       "      <td>113.510002</td>\n",
       "      <td>78.617973</td>\n",
       "      <td>36720900</td>\n",
       "    </tr>\n",
       "    <tr>\n",
       "      <th>2004-11-02</th>\n",
       "      <td>113.669998</td>\n",
       "      <td>114.570000</td>\n",
       "      <td>113.220001</td>\n",
       "      <td>113.550003</td>\n",
       "      <td>78.645660</td>\n",
       "      <td>56210000</td>\n",
       "    </tr>\n",
       "    <tr>\n",
       "      <th>2004-11-03</th>\n",
       "      <td>115.029999</td>\n",
       "      <td>115.360001</td>\n",
       "      <td>114.239998</td>\n",
       "      <td>114.980003</td>\n",
       "      <td>79.636047</td>\n",
       "      <td>76960200</td>\n",
       "    </tr>\n",
       "    <tr>\n",
       "      <th>2004-11-04</th>\n",
       "      <td>114.779999</td>\n",
       "      <td>116.669998</td>\n",
       "      <td>114.680000</td>\n",
       "      <td>116.550003</td>\n",
       "      <td>80.723457</td>\n",
       "      <td>55350300</td>\n",
       "    </tr>\n",
       "    <tr>\n",
       "      <th>2004-11-05</th>\n",
       "      <td>117.050003</td>\n",
       "      <td>117.639999</td>\n",
       "      <td>116.489998</td>\n",
       "      <td>117.279999</td>\n",
       "      <td>81.229034</td>\n",
       "      <td>63287200</td>\n",
       "    </tr>\n",
       "    <tr>\n",
       "      <th>...</th>\n",
       "      <td>...</td>\n",
       "      <td>...</td>\n",
       "      <td>...</td>\n",
       "      <td>...</td>\n",
       "      <td>...</td>\n",
       "      <td>...</td>\n",
       "    </tr>\n",
       "    <tr>\n",
       "      <th>2023-10-25</th>\n",
       "      <td>421.890015</td>\n",
       "      <td>421.920013</td>\n",
       "      <td>417.019989</td>\n",
       "      <td>417.549988</td>\n",
       "      <td>417.549988</td>\n",
       "      <td>94223200</td>\n",
       "    </tr>\n",
       "    <tr>\n",
       "      <th>2023-10-26</th>\n",
       "      <td>416.450012</td>\n",
       "      <td>417.329987</td>\n",
       "      <td>411.600006</td>\n",
       "      <td>412.549988</td>\n",
       "      <td>412.549988</td>\n",
       "      <td>115156800</td>\n",
       "    </tr>\n",
       "    <tr>\n",
       "      <th>2023-10-27</th>\n",
       "      <td>414.190002</td>\n",
       "      <td>414.600006</td>\n",
       "      <td>409.209991</td>\n",
       "      <td>410.679993</td>\n",
       "      <td>410.679993</td>\n",
       "      <td>107367700</td>\n",
       "    </tr>\n",
       "    <tr>\n",
       "      <th>2023-10-30</th>\n",
       "      <td>413.559998</td>\n",
       "      <td>416.679993</td>\n",
       "      <td>412.220001</td>\n",
       "      <td>415.589996</td>\n",
       "      <td>415.589996</td>\n",
       "      <td>86562700</td>\n",
       "    </tr>\n",
       "    <tr>\n",
       "      <th>2023-10-31</th>\n",
       "      <td>416.179993</td>\n",
       "      <td>418.529999</td>\n",
       "      <td>414.209991</td>\n",
       "      <td>418.200012</td>\n",
       "      <td>418.200012</td>\n",
       "      <td>79665200</td>\n",
       "    </tr>\n",
       "  </tbody>\n",
       "</table>\n",
       "<p>4783 rows × 6 columns</p>\n",
       "</div>"
      ],
      "text/plain": [
       "                  Open        High         Low       Close   Adj Close  \\\n",
       "Date                                                                     \n",
       "2004-11-01  113.559998  113.839996  113.199997  113.510002   78.617973   \n",
       "2004-11-02  113.669998  114.570000  113.220001  113.550003   78.645660   \n",
       "2004-11-03  115.029999  115.360001  114.239998  114.980003   79.636047   \n",
       "2004-11-04  114.779999  116.669998  114.680000  116.550003   80.723457   \n",
       "2004-11-05  117.050003  117.639999  116.489998  117.279999   81.229034   \n",
       "...                ...         ...         ...         ...         ...   \n",
       "2023-10-25  421.890015  421.920013  417.019989  417.549988  417.549988   \n",
       "2023-10-26  416.450012  417.329987  411.600006  412.549988  412.549988   \n",
       "2023-10-27  414.190002  414.600006  409.209991  410.679993  410.679993   \n",
       "2023-10-30  413.559998  416.679993  412.220001  415.589996  415.589996   \n",
       "2023-10-31  416.179993  418.529999  414.209991  418.200012  418.200012   \n",
       "\n",
       "               Volume  \n",
       "Date                   \n",
       "2004-11-01   36720900  \n",
       "2004-11-02   56210000  \n",
       "2004-11-03   76960200  \n",
       "2004-11-04   55350300  \n",
       "2004-11-05   63287200  \n",
       "...               ...  \n",
       "2023-10-25   94223200  \n",
       "2023-10-26  115156800  \n",
       "2023-10-27  107367700  \n",
       "2023-10-30   86562700  \n",
       "2023-10-31   79665200  \n",
       "\n",
       "[4783 rows x 6 columns]"
      ]
     },
     "execution_count": 101,
     "metadata": {},
     "output_type": "execute_result"
    }
   ],
   "source": [
    "spy"
   ]
  },
  {
   "cell_type": "code",
   "execution_count": 102,
   "id": "0ed4eda9",
   "metadata": {},
   "outputs": [
    {
     "data": {
      "text/html": [
       "<div>\n",
       "<style scoped>\n",
       "    .dataframe tbody tr th:only-of-type {\n",
       "        vertical-align: middle;\n",
       "    }\n",
       "\n",
       "    .dataframe tbody tr th {\n",
       "        vertical-align: top;\n",
       "    }\n",
       "\n",
       "    .dataframe thead th {\n",
       "        text-align: right;\n",
       "    }\n",
       "</style>\n",
       "<table border=\"1\" class=\"dataframe\">\n",
       "  <thead>\n",
       "    <tr style=\"text-align: right;\">\n",
       "      <th></th>\n",
       "      <th>Open</th>\n",
       "      <th>High</th>\n",
       "      <th>Low</th>\n",
       "      <th>Close</th>\n",
       "      <th>Adj Close</th>\n",
       "      <th>Volume</th>\n",
       "    </tr>\n",
       "    <tr>\n",
       "      <th>Date</th>\n",
       "      <th></th>\n",
       "      <th></th>\n",
       "      <th></th>\n",
       "      <th></th>\n",
       "      <th></th>\n",
       "      <th></th>\n",
       "    </tr>\n",
       "  </thead>\n",
       "  <tbody>\n",
       "    <tr>\n",
       "      <th>2004-11-01</th>\n",
       "      <td>4.050</td>\n",
       "      <td>4.095</td>\n",
       "      <td>4.036</td>\n",
       "      <td>4.090</td>\n",
       "      <td>4.090</td>\n",
       "      <td>0</td>\n",
       "    </tr>\n",
       "    <tr>\n",
       "      <th>2004-11-02</th>\n",
       "      <td>4.090</td>\n",
       "      <td>4.103</td>\n",
       "      <td>4.074</td>\n",
       "      <td>4.075</td>\n",
       "      <td>4.075</td>\n",
       "      <td>0</td>\n",
       "    </tr>\n",
       "    <tr>\n",
       "      <th>2004-11-03</th>\n",
       "      <td>4.134</td>\n",
       "      <td>4.160</td>\n",
       "      <td>4.065</td>\n",
       "      <td>4.070</td>\n",
       "      <td>4.070</td>\n",
       "      <td>0</td>\n",
       "    </tr>\n",
       "    <tr>\n",
       "      <th>2004-11-04</th>\n",
       "      <td>4.062</td>\n",
       "      <td>4.072</td>\n",
       "      <td>4.038</td>\n",
       "      <td>4.068</td>\n",
       "      <td>4.068</td>\n",
       "      <td>0</td>\n",
       "    </tr>\n",
       "    <tr>\n",
       "      <th>2004-11-05</th>\n",
       "      <td>4.070</td>\n",
       "      <td>4.243</td>\n",
       "      <td>4.070</td>\n",
       "      <td>4.186</td>\n",
       "      <td>4.186</td>\n",
       "      <td>0</td>\n",
       "    </tr>\n",
       "    <tr>\n",
       "      <th>...</th>\n",
       "      <td>...</td>\n",
       "      <td>...</td>\n",
       "      <td>...</td>\n",
       "      <td>...</td>\n",
       "      <td>...</td>\n",
       "      <td>...</td>\n",
       "    </tr>\n",
       "    <tr>\n",
       "      <th>2023-10-25</th>\n",
       "      <td>4.851</td>\n",
       "      <td>4.959</td>\n",
       "      <td>4.851</td>\n",
       "      <td>4.953</td>\n",
       "      <td>4.953</td>\n",
       "      <td>0</td>\n",
       "    </tr>\n",
       "    <tr>\n",
       "      <th>2023-10-26</th>\n",
       "      <td>4.964</td>\n",
       "      <td>4.983</td>\n",
       "      <td>4.842</td>\n",
       "      <td>4.845</td>\n",
       "      <td>4.845</td>\n",
       "      <td>0</td>\n",
       "    </tr>\n",
       "    <tr>\n",
       "      <th>2023-10-27</th>\n",
       "      <td>4.866</td>\n",
       "      <td>4.892</td>\n",
       "      <td>4.843</td>\n",
       "      <td>4.845</td>\n",
       "      <td>4.845</td>\n",
       "      <td>0</td>\n",
       "    </tr>\n",
       "    <tr>\n",
       "      <th>2023-10-30</th>\n",
       "      <td>4.896</td>\n",
       "      <td>4.922</td>\n",
       "      <td>4.867</td>\n",
       "      <td>4.875</td>\n",
       "      <td>4.875</td>\n",
       "      <td>0</td>\n",
       "    </tr>\n",
       "    <tr>\n",
       "      <th>2023-10-31</th>\n",
       "      <td>4.810</td>\n",
       "      <td>4.880</td>\n",
       "      <td>4.803</td>\n",
       "      <td>4.875</td>\n",
       "      <td>4.875</td>\n",
       "      <td>0</td>\n",
       "    </tr>\n",
       "  </tbody>\n",
       "</table>\n",
       "<p>4777 rows × 6 columns</p>\n",
       "</div>"
      ],
      "text/plain": [
       "             Open   High    Low  Close  Adj Close  Volume\n",
       "Date                                                     \n",
       "2004-11-01  4.050  4.095  4.036  4.090      4.090       0\n",
       "2004-11-02  4.090  4.103  4.074  4.075      4.075       0\n",
       "2004-11-03  4.134  4.160  4.065  4.070      4.070       0\n",
       "2004-11-04  4.062  4.072  4.038  4.068      4.068       0\n",
       "2004-11-05  4.070  4.243  4.070  4.186      4.186       0\n",
       "...           ...    ...    ...    ...        ...     ...\n",
       "2023-10-25  4.851  4.959  4.851  4.953      4.953       0\n",
       "2023-10-26  4.964  4.983  4.842  4.845      4.845       0\n",
       "2023-10-27  4.866  4.892  4.843  4.845      4.845       0\n",
       "2023-10-30  4.896  4.922  4.867  4.875      4.875       0\n",
       "2023-10-31  4.810  4.880  4.803  4.875      4.875       0\n",
       "\n",
       "[4777 rows x 6 columns]"
      ]
     },
     "execution_count": 102,
     "metadata": {},
     "output_type": "execute_result"
    }
   ],
   "source": [
    "tnx_data"
   ]
  },
  {
   "cell_type": "code",
   "execution_count": 103,
   "id": "52e89b2e",
   "metadata": {},
   "outputs": [
    {
     "data": {
      "text/html": [
       "<div>\n",
       "<style scoped>\n",
       "    .dataframe tbody tr th:only-of-type {\n",
       "        vertical-align: middle;\n",
       "    }\n",
       "\n",
       "    .dataframe tbody tr th {\n",
       "        vertical-align: top;\n",
       "    }\n",
       "\n",
       "    .dataframe thead th {\n",
       "        text-align: right;\n",
       "    }\n",
       "</style>\n",
       "<table border=\"1\" class=\"dataframe\">\n",
       "  <thead>\n",
       "    <tr style=\"text-align: right;\">\n",
       "      <th></th>\n",
       "      <th>Open</th>\n",
       "      <th>High</th>\n",
       "      <th>Low</th>\n",
       "      <th>Close</th>\n",
       "      <th>Adj Close</th>\n",
       "      <th>Volume</th>\n",
       "    </tr>\n",
       "    <tr>\n",
       "      <th>Date</th>\n",
       "      <th></th>\n",
       "      <th></th>\n",
       "      <th></th>\n",
       "      <th></th>\n",
       "      <th></th>\n",
       "      <th></th>\n",
       "    </tr>\n",
       "  </thead>\n",
       "  <tbody>\n",
       "    <tr>\n",
       "      <th>2004-11-01</th>\n",
       "      <td>16.430000</td>\n",
       "      <td>16.760000</td>\n",
       "      <td>16.180000</td>\n",
       "      <td>16.270000</td>\n",
       "      <td>16.270000</td>\n",
       "      <td>0</td>\n",
       "    </tr>\n",
       "    <tr>\n",
       "      <th>2004-11-02</th>\n",
       "      <td>15.990000</td>\n",
       "      <td>16.320000</td>\n",
       "      <td>15.210000</td>\n",
       "      <td>16.180000</td>\n",
       "      <td>16.180000</td>\n",
       "      <td>0</td>\n",
       "    </tr>\n",
       "    <tr>\n",
       "      <th>2004-11-03</th>\n",
       "      <td>15.050000</td>\n",
       "      <td>15.180000</td>\n",
       "      <td>13.790000</td>\n",
       "      <td>14.040000</td>\n",
       "      <td>14.040000</td>\n",
       "      <td>0</td>\n",
       "    </tr>\n",
       "    <tr>\n",
       "      <th>2004-11-04</th>\n",
       "      <td>13.830000</td>\n",
       "      <td>14.020000</td>\n",
       "      <td>12.950000</td>\n",
       "      <td>13.970000</td>\n",
       "      <td>13.970000</td>\n",
       "      <td>0</td>\n",
       "    </tr>\n",
       "    <tr>\n",
       "      <th>2004-11-05</th>\n",
       "      <td>13.670000</td>\n",
       "      <td>14.100000</td>\n",
       "      <td>13.230000</td>\n",
       "      <td>13.840000</td>\n",
       "      <td>13.840000</td>\n",
       "      <td>0</td>\n",
       "    </tr>\n",
       "    <tr>\n",
       "      <th>...</th>\n",
       "      <td>...</td>\n",
       "      <td>...</td>\n",
       "      <td>...</td>\n",
       "      <td>...</td>\n",
       "      <td>...</td>\n",
       "      <td>...</td>\n",
       "    </tr>\n",
       "    <tr>\n",
       "      <th>2023-10-25</th>\n",
       "      <td>19.389999</td>\n",
       "      <td>21.240000</td>\n",
       "      <td>18.860001</td>\n",
       "      <td>20.190001</td>\n",
       "      <td>20.190001</td>\n",
       "      <td>0</td>\n",
       "    </tr>\n",
       "    <tr>\n",
       "      <th>2023-10-26</th>\n",
       "      <td>21.780001</td>\n",
       "      <td>21.959999</td>\n",
       "      <td>20.219999</td>\n",
       "      <td>20.680000</td>\n",
       "      <td>20.680000</td>\n",
       "      <td>0</td>\n",
       "    </tr>\n",
       "    <tr>\n",
       "      <th>2023-10-27</th>\n",
       "      <td>20.389999</td>\n",
       "      <td>22.070000</td>\n",
       "      <td>19.719999</td>\n",
       "      <td>21.270000</td>\n",
       "      <td>21.270000</td>\n",
       "      <td>0</td>\n",
       "    </tr>\n",
       "    <tr>\n",
       "      <th>2023-10-30</th>\n",
       "      <td>21.129999</td>\n",
       "      <td>21.160000</td>\n",
       "      <td>19.549999</td>\n",
       "      <td>19.750000</td>\n",
       "      <td>19.750000</td>\n",
       "      <td>0</td>\n",
       "    </tr>\n",
       "    <tr>\n",
       "      <th>2023-10-31</th>\n",
       "      <td>19.860001</td>\n",
       "      <td>19.860001</td>\n",
       "      <td>17.969999</td>\n",
       "      <td>18.139999</td>\n",
       "      <td>18.139999</td>\n",
       "      <td>0</td>\n",
       "    </tr>\n",
       "  </tbody>\n",
       "</table>\n",
       "<p>4783 rows × 6 columns</p>\n",
       "</div>"
      ],
      "text/plain": [
       "                 Open       High        Low      Close  Adj Close  Volume\n",
       "Date                                                                     \n",
       "2004-11-01  16.430000  16.760000  16.180000  16.270000  16.270000       0\n",
       "2004-11-02  15.990000  16.320000  15.210000  16.180000  16.180000       0\n",
       "2004-11-03  15.050000  15.180000  13.790000  14.040000  14.040000       0\n",
       "2004-11-04  13.830000  14.020000  12.950000  13.970000  13.970000       0\n",
       "2004-11-05  13.670000  14.100000  13.230000  13.840000  13.840000       0\n",
       "...               ...        ...        ...        ...        ...     ...\n",
       "2023-10-25  19.389999  21.240000  18.860001  20.190001  20.190001       0\n",
       "2023-10-26  21.780001  21.959999  20.219999  20.680000  20.680000       0\n",
       "2023-10-27  20.389999  22.070000  19.719999  21.270000  21.270000       0\n",
       "2023-10-30  21.129999  21.160000  19.549999  19.750000  19.750000       0\n",
       "2023-10-31  19.860001  19.860001  17.969999  18.139999  18.139999       0\n",
       "\n",
       "[4783 rows x 6 columns]"
      ]
     },
     "execution_count": 103,
     "metadata": {},
     "output_type": "execute_result"
    }
   ],
   "source": [
    "vix"
   ]
  },
  {
   "cell_type": "code",
   "execution_count": 105,
   "id": "377c270b",
   "metadata": {},
   "outputs": [],
   "source": [
    "spy_vix = pd.concat([spy[\"Adj Close\"], vix[\"Adj Close\"]], axis = 1)\n",
    "spy_tnx = pd.concat([spy[\"Adj Close\"], tnx_data[\"Adj Close\"]], axis = 1)\n",
    "spy_vix_diff5 = pd.concat([spy[\"Adj Close\"].diff(5).dropna(), vix[\"Adj Close\"].diff(5).dropna()], axis = 1)\n",
    "spy_tnx_diff5 = pd.concat([spy[\"Adj Close\"].diff(5).dropna(), tnx_data[\"Adj Close\"].diff(5).dropna()], axis = 1)"
   ]
  },
  {
   "cell_type": "code",
   "execution_count": 109,
   "id": "f32f659e",
   "metadata": {},
   "outputs": [
    {
     "data": {
      "text/html": [
       "<div>\n",
       "<style scoped>\n",
       "    .dataframe tbody tr th:only-of-type {\n",
       "        vertical-align: middle;\n",
       "    }\n",
       "\n",
       "    .dataframe tbody tr th {\n",
       "        vertical-align: top;\n",
       "    }\n",
       "\n",
       "    .dataframe thead th {\n",
       "        text-align: right;\n",
       "    }\n",
       "</style>\n",
       "<table border=\"1\" class=\"dataframe\">\n",
       "  <thead>\n",
       "    <tr style=\"text-align: right;\">\n",
       "      <th></th>\n",
       "      <th>Adj Close</th>\n",
       "      <th>Adj Close</th>\n",
       "    </tr>\n",
       "    <tr>\n",
       "      <th>Date</th>\n",
       "      <th></th>\n",
       "      <th></th>\n",
       "    </tr>\n",
       "  </thead>\n",
       "  <tbody>\n",
       "    <tr>\n",
       "      <th>2004-11-01</th>\n",
       "      <td>78.617973</td>\n",
       "      <td>16.270000</td>\n",
       "    </tr>\n",
       "    <tr>\n",
       "      <th>2004-11-02</th>\n",
       "      <td>78.645660</td>\n",
       "      <td>16.180000</td>\n",
       "    </tr>\n",
       "    <tr>\n",
       "      <th>2004-11-03</th>\n",
       "      <td>79.636047</td>\n",
       "      <td>14.040000</td>\n",
       "    </tr>\n",
       "    <tr>\n",
       "      <th>2004-11-04</th>\n",
       "      <td>80.723457</td>\n",
       "      <td>13.970000</td>\n",
       "    </tr>\n",
       "    <tr>\n",
       "      <th>2004-11-05</th>\n",
       "      <td>81.229034</td>\n",
       "      <td>13.840000</td>\n",
       "    </tr>\n",
       "    <tr>\n",
       "      <th>...</th>\n",
       "      <td>...</td>\n",
       "      <td>...</td>\n",
       "    </tr>\n",
       "    <tr>\n",
       "      <th>2023-10-25</th>\n",
       "      <td>417.549988</td>\n",
       "      <td>20.190001</td>\n",
       "    </tr>\n",
       "    <tr>\n",
       "      <th>2023-10-26</th>\n",
       "      <td>412.549988</td>\n",
       "      <td>20.680000</td>\n",
       "    </tr>\n",
       "    <tr>\n",
       "      <th>2023-10-27</th>\n",
       "      <td>410.679993</td>\n",
       "      <td>21.270000</td>\n",
       "    </tr>\n",
       "    <tr>\n",
       "      <th>2023-10-30</th>\n",
       "      <td>415.589996</td>\n",
       "      <td>19.750000</td>\n",
       "    </tr>\n",
       "    <tr>\n",
       "      <th>2023-10-31</th>\n",
       "      <td>418.200012</td>\n",
       "      <td>18.139999</td>\n",
       "    </tr>\n",
       "  </tbody>\n",
       "</table>\n",
       "<p>4783 rows × 2 columns</p>\n",
       "</div>"
      ],
      "text/plain": [
       "             Adj Close  Adj Close\n",
       "Date                             \n",
       "2004-11-01   78.617973  16.270000\n",
       "2004-11-02   78.645660  16.180000\n",
       "2004-11-03   79.636047  14.040000\n",
       "2004-11-04   80.723457  13.970000\n",
       "2004-11-05   81.229034  13.840000\n",
       "...                ...        ...\n",
       "2023-10-25  417.549988  20.190001\n",
       "2023-10-26  412.549988  20.680000\n",
       "2023-10-27  410.679993  21.270000\n",
       "2023-10-30  415.589996  19.750000\n",
       "2023-10-31  418.200012  18.139999\n",
       "\n",
       "[4783 rows x 2 columns]"
      ]
     },
     "execution_count": 109,
     "metadata": {},
     "output_type": "execute_result"
    }
   ],
   "source": [
    "spy_vix.dropna()"
   ]
  },
  {
   "cell_type": "code",
   "execution_count": 114,
   "id": "b0038eb9",
   "metadata": {},
   "outputs": [
    {
     "data": {
      "text/html": [
       "<div>\n",
       "<style scoped>\n",
       "    .dataframe tbody tr th:only-of-type {\n",
       "        vertical-align: middle;\n",
       "    }\n",
       "\n",
       "    .dataframe tbody tr th {\n",
       "        vertical-align: top;\n",
       "    }\n",
       "\n",
       "    .dataframe thead th {\n",
       "        text-align: right;\n",
       "    }\n",
       "</style>\n",
       "<table border=\"1\" class=\"dataframe\">\n",
       "  <thead>\n",
       "    <tr style=\"text-align: right;\">\n",
       "      <th></th>\n",
       "      <th>2</th>\n",
       "      <th>3</th>\n",
       "      <th>4</th>\n",
       "      <th>5</th>\n",
       "      <th>6</th>\n",
       "      <th>7</th>\n",
       "      <th>8</th>\n",
       "      <th>9</th>\n",
       "      <th>10</th>\n",
       "      <th>11</th>\n",
       "      <th>12</th>\n",
       "      <th>13</th>\n",
       "      <th>14</th>\n",
       "      <th>15</th>\n",
       "      <th>16</th>\n",
       "      <th>17</th>\n",
       "      <th>18</th>\n",
       "      <th>19</th>\n",
       "    </tr>\n",
       "    <tr>\n",
       "      <th>Date</th>\n",
       "      <th></th>\n",
       "      <th></th>\n",
       "      <th></th>\n",
       "      <th></th>\n",
       "      <th></th>\n",
       "      <th></th>\n",
       "      <th></th>\n",
       "      <th></th>\n",
       "      <th></th>\n",
       "      <th></th>\n",
       "      <th></th>\n",
       "      <th></th>\n",
       "      <th></th>\n",
       "      <th></th>\n",
       "      <th></th>\n",
       "      <th></th>\n",
       "      <th></th>\n",
       "      <th></th>\n",
       "    </tr>\n",
       "  </thead>\n",
       "  <tbody>\n",
       "    <tr>\n",
       "      <th>2004-11-01</th>\n",
       "      <td>0</td>\n",
       "      <td>0</td>\n",
       "      <td>0</td>\n",
       "      <td>0</td>\n",
       "      <td>0</td>\n",
       "      <td>0</td>\n",
       "      <td>0</td>\n",
       "      <td>0</td>\n",
       "      <td>0</td>\n",
       "      <td>0</td>\n",
       "      <td>0</td>\n",
       "      <td>0</td>\n",
       "      <td>0</td>\n",
       "      <td>0</td>\n",
       "      <td>0</td>\n",
       "      <td>0</td>\n",
       "      <td>0</td>\n",
       "      <td>0</td>\n",
       "    </tr>\n",
       "    <tr>\n",
       "      <th>2004-11-02</th>\n",
       "      <td>0</td>\n",
       "      <td>0</td>\n",
       "      <td>0</td>\n",
       "      <td>0</td>\n",
       "      <td>0</td>\n",
       "      <td>0</td>\n",
       "      <td>0</td>\n",
       "      <td>0</td>\n",
       "      <td>0</td>\n",
       "      <td>0</td>\n",
       "      <td>0</td>\n",
       "      <td>0</td>\n",
       "      <td>0</td>\n",
       "      <td>0</td>\n",
       "      <td>0</td>\n",
       "      <td>0</td>\n",
       "      <td>0</td>\n",
       "      <td>0</td>\n",
       "    </tr>\n",
       "    <tr>\n",
       "      <th>2004-11-03</th>\n",
       "      <td>0</td>\n",
       "      <td>0</td>\n",
       "      <td>0</td>\n",
       "      <td>0</td>\n",
       "      <td>0</td>\n",
       "      <td>0</td>\n",
       "      <td>0</td>\n",
       "      <td>0</td>\n",
       "      <td>0</td>\n",
       "      <td>0</td>\n",
       "      <td>0</td>\n",
       "      <td>0</td>\n",
       "      <td>0</td>\n",
       "      <td>0</td>\n",
       "      <td>0</td>\n",
       "      <td>0</td>\n",
       "      <td>0</td>\n",
       "      <td>0</td>\n",
       "    </tr>\n",
       "    <tr>\n",
       "      <th>2004-11-04</th>\n",
       "      <td>0</td>\n",
       "      <td>0</td>\n",
       "      <td>0</td>\n",
       "      <td>0</td>\n",
       "      <td>0</td>\n",
       "      <td>0</td>\n",
       "      <td>0</td>\n",
       "      <td>0</td>\n",
       "      <td>0</td>\n",
       "      <td>0</td>\n",
       "      <td>0</td>\n",
       "      <td>0</td>\n",
       "      <td>0</td>\n",
       "      <td>0</td>\n",
       "      <td>0</td>\n",
       "      <td>0</td>\n",
       "      <td>0</td>\n",
       "      <td>0</td>\n",
       "    </tr>\n",
       "    <tr>\n",
       "      <th>2004-11-05</th>\n",
       "      <td>0</td>\n",
       "      <td>0</td>\n",
       "      <td>0</td>\n",
       "      <td>0</td>\n",
       "      <td>0</td>\n",
       "      <td>0</td>\n",
       "      <td>0</td>\n",
       "      <td>0</td>\n",
       "      <td>0</td>\n",
       "      <td>0</td>\n",
       "      <td>0</td>\n",
       "      <td>0</td>\n",
       "      <td>0</td>\n",
       "      <td>0</td>\n",
       "      <td>0</td>\n",
       "      <td>0</td>\n",
       "      <td>0</td>\n",
       "      <td>0</td>\n",
       "    </tr>\n",
       "    <tr>\n",
       "      <th>...</th>\n",
       "      <td>...</td>\n",
       "      <td>...</td>\n",
       "      <td>...</td>\n",
       "      <td>...</td>\n",
       "      <td>...</td>\n",
       "      <td>...</td>\n",
       "      <td>...</td>\n",
       "      <td>...</td>\n",
       "      <td>...</td>\n",
       "      <td>...</td>\n",
       "      <td>...</td>\n",
       "      <td>...</td>\n",
       "      <td>...</td>\n",
       "      <td>...</td>\n",
       "      <td>...</td>\n",
       "      <td>...</td>\n",
       "      <td>...</td>\n",
       "      <td>...</td>\n",
       "    </tr>\n",
       "    <tr>\n",
       "      <th>2023-10-25</th>\n",
       "      <td>0</td>\n",
       "      <td>0</td>\n",
       "      <td>0</td>\n",
       "      <td>0</td>\n",
       "      <td>0</td>\n",
       "      <td>0</td>\n",
       "      <td>0</td>\n",
       "      <td>0</td>\n",
       "      <td>0</td>\n",
       "      <td>0</td>\n",
       "      <td>0</td>\n",
       "      <td>0</td>\n",
       "      <td>0</td>\n",
       "      <td>0</td>\n",
       "      <td>0</td>\n",
       "      <td>0</td>\n",
       "      <td>0</td>\n",
       "      <td>0</td>\n",
       "    </tr>\n",
       "    <tr>\n",
       "      <th>2023-10-26</th>\n",
       "      <td>0</td>\n",
       "      <td>0</td>\n",
       "      <td>0</td>\n",
       "      <td>0</td>\n",
       "      <td>0</td>\n",
       "      <td>0</td>\n",
       "      <td>0</td>\n",
       "      <td>0</td>\n",
       "      <td>0</td>\n",
       "      <td>0</td>\n",
       "      <td>0</td>\n",
       "      <td>0</td>\n",
       "      <td>0</td>\n",
       "      <td>0</td>\n",
       "      <td>0</td>\n",
       "      <td>0</td>\n",
       "      <td>0</td>\n",
       "      <td>0</td>\n",
       "    </tr>\n",
       "    <tr>\n",
       "      <th>2023-10-27</th>\n",
       "      <td>0</td>\n",
       "      <td>0</td>\n",
       "      <td>0</td>\n",
       "      <td>0</td>\n",
       "      <td>0</td>\n",
       "      <td>0</td>\n",
       "      <td>0</td>\n",
       "      <td>0</td>\n",
       "      <td>0</td>\n",
       "      <td>0</td>\n",
       "      <td>0</td>\n",
       "      <td>0</td>\n",
       "      <td>0</td>\n",
       "      <td>0</td>\n",
       "      <td>0</td>\n",
       "      <td>0</td>\n",
       "      <td>0</td>\n",
       "      <td>0</td>\n",
       "    </tr>\n",
       "    <tr>\n",
       "      <th>2023-10-30</th>\n",
       "      <td>0</td>\n",
       "      <td>0</td>\n",
       "      <td>0</td>\n",
       "      <td>0</td>\n",
       "      <td>0</td>\n",
       "      <td>0</td>\n",
       "      <td>0</td>\n",
       "      <td>0</td>\n",
       "      <td>0</td>\n",
       "      <td>0</td>\n",
       "      <td>0</td>\n",
       "      <td>0</td>\n",
       "      <td>0</td>\n",
       "      <td>0</td>\n",
       "      <td>0</td>\n",
       "      <td>0</td>\n",
       "      <td>0</td>\n",
       "      <td>0</td>\n",
       "    </tr>\n",
       "    <tr>\n",
       "      <th>2023-10-31</th>\n",
       "      <td>0</td>\n",
       "      <td>0</td>\n",
       "      <td>0</td>\n",
       "      <td>0</td>\n",
       "      <td>0</td>\n",
       "      <td>0</td>\n",
       "      <td>0</td>\n",
       "      <td>0</td>\n",
       "      <td>0</td>\n",
       "      <td>0</td>\n",
       "      <td>0</td>\n",
       "      <td>0</td>\n",
       "      <td>0</td>\n",
       "      <td>0</td>\n",
       "      <td>0</td>\n",
       "      <td>0</td>\n",
       "      <td>0</td>\n",
       "      <td>0</td>\n",
       "    </tr>\n",
       "  </tbody>\n",
       "</table>\n",
       "<p>4783 rows × 18 columns</p>\n",
       "</div>"
      ],
      "text/plain": [
       "            2   3   4   5   6   7   8   9   10  11  12  13  14  15  16  17  \\\n",
       "Date                                                                         \n",
       "2004-11-01   0   0   0   0   0   0   0   0   0   0   0   0   0   0   0   0   \n",
       "2004-11-02   0   0   0   0   0   0   0   0   0   0   0   0   0   0   0   0   \n",
       "2004-11-03   0   0   0   0   0   0   0   0   0   0   0   0   0   0   0   0   \n",
       "2004-11-04   0   0   0   0   0   0   0   0   0   0   0   0   0   0   0   0   \n",
       "2004-11-05   0   0   0   0   0   0   0   0   0   0   0   0   0   0   0   0   \n",
       "...         ..  ..  ..  ..  ..  ..  ..  ..  ..  ..  ..  ..  ..  ..  ..  ..   \n",
       "2023-10-25   0   0   0   0   0   0   0   0   0   0   0   0   0   0   0   0   \n",
       "2023-10-26   0   0   0   0   0   0   0   0   0   0   0   0   0   0   0   0   \n",
       "2023-10-27   0   0   0   0   0   0   0   0   0   0   0   0   0   0   0   0   \n",
       "2023-10-30   0   0   0   0   0   0   0   0   0   0   0   0   0   0   0   0   \n",
       "2023-10-31   0   0   0   0   0   0   0   0   0   0   0   0   0   0   0   0   \n",
       "\n",
       "            18  19  \n",
       "Date                \n",
       "2004-11-01   0   0  \n",
       "2004-11-02   0   0  \n",
       "2004-11-03   0   0  \n",
       "2004-11-04   0   0  \n",
       "2004-11-05   0   0  \n",
       "...         ..  ..  \n",
       "2023-10-25   0   0  \n",
       "2023-10-26   0   0  \n",
       "2023-10-27   0   0  \n",
       "2023-10-30   0   0  \n",
       "2023-10-31   0   0  \n",
       "\n",
       "[4783 rows x 18 columns]"
      ]
     },
     "execution_count": 114,
     "metadata": {},
     "output_type": "execute_result"
    }
   ],
   "source": [
    "regime_dict_df1"
   ]
  },
  {
   "cell_type": "code",
   "execution_count": 113,
   "id": "34073ea8",
   "metadata": {},
   "outputs": [
    {
     "data": {
      "text/plain": [
       "cluster_label\n",
       "0    4767\n",
       "1      16\n",
       "Name: count, dtype: int64"
      ]
     },
     "execution_count": 113,
     "metadata": {},
     "output_type": "execute_result"
    }
   ],
   "source": [
    "spy_vix[\"cluster_label\"].value_counts()"
   ]
  },
  {
   "cell_type": "code",
   "execution_count": 117,
   "id": "2df32dca",
   "metadata": {},
   "outputs": [
    {
     "data": {
      "text/plain": [
       "37"
      ]
     },
     "execution_count": 117,
     "metadata": {},
     "output_type": "execute_result"
    }
   ],
   "source": [
    "len(inertia_list)"
   ]
  },
  {
   "cell_type": "code",
   "execution_count": 120,
   "id": "51cad03e",
   "metadata": {},
   "outputs": [
    {
     "name": "stderr",
     "output_type": "stream",
     "text": [
      "/Users/kennong/opt/anaconda3/lib/python3.9/site-packages/sklearn/cluster/_kmeans.py:1416: FutureWarning: The default value of `n_init` will change from 10 to 'auto' in 1.4. Set the value of `n_init` explicitly to suppress the warning\n",
      "  super()._check_params_vs_input(X, default_n_init=10)\n",
      "/Users/kennong/opt/anaconda3/lib/python3.9/site-packages/sklearn/cluster/_kmeans.py:1416: FutureWarning: The default value of `n_init` will change from 10 to 'auto' in 1.4. Set the value of `n_init` explicitly to suppress the warning\n",
      "  super()._check_params_vs_input(X, default_n_init=10)\n"
     ]
    },
    {
     "name": "stdout",
     "output_type": "stream",
     "text": [
      " \n",
      "iteration number 2 done!\n"
     ]
    },
    {
     "name": "stderr",
     "output_type": "stream",
     "text": [
      "/Users/kennong/opt/anaconda3/lib/python3.9/site-packages/sklearn/cluster/_kmeans.py:1416: FutureWarning: The default value of `n_init` will change from 10 to 'auto' in 1.4. Set the value of `n_init` explicitly to suppress the warning\n",
      "  super()._check_params_vs_input(X, default_n_init=10)\n",
      "/Users/kennong/opt/anaconda3/lib/python3.9/site-packages/sklearn/cluster/_kmeans.py:1416: FutureWarning: The default value of `n_init` will change from 10 to 'auto' in 1.4. Set the value of `n_init` explicitly to suppress the warning\n",
      "  super()._check_params_vs_input(X, default_n_init=10)\n"
     ]
    },
    {
     "name": "stdout",
     "output_type": "stream",
     "text": [
      " \n",
      "iteration number 3 done!\n"
     ]
    },
    {
     "name": "stderr",
     "output_type": "stream",
     "text": [
      "/Users/kennong/opt/anaconda3/lib/python3.9/site-packages/sklearn/cluster/_kmeans.py:1416: FutureWarning: The default value of `n_init` will change from 10 to 'auto' in 1.4. Set the value of `n_init` explicitly to suppress the warning\n",
      "  super()._check_params_vs_input(X, default_n_init=10)\n",
      "/Users/kennong/opt/anaconda3/lib/python3.9/site-packages/sklearn/cluster/_kmeans.py:1416: FutureWarning: The default value of `n_init` will change from 10 to 'auto' in 1.4. Set the value of `n_init` explicitly to suppress the warning\n",
      "  super()._check_params_vs_input(X, default_n_init=10)\n"
     ]
    },
    {
     "name": "stdout",
     "output_type": "stream",
     "text": [
      " \n",
      "iteration number 4 done!\n"
     ]
    },
    {
     "name": "stderr",
     "output_type": "stream",
     "text": [
      "/Users/kennong/opt/anaconda3/lib/python3.9/site-packages/sklearn/cluster/_kmeans.py:1416: FutureWarning: The default value of `n_init` will change from 10 to 'auto' in 1.4. Set the value of `n_init` explicitly to suppress the warning\n",
      "  super()._check_params_vs_input(X, default_n_init=10)\n",
      "/Users/kennong/opt/anaconda3/lib/python3.9/site-packages/sklearn/cluster/_kmeans.py:1416: FutureWarning: The default value of `n_init` will change from 10 to 'auto' in 1.4. Set the value of `n_init` explicitly to suppress the warning\n",
      "  super()._check_params_vs_input(X, default_n_init=10)\n"
     ]
    },
    {
     "name": "stdout",
     "output_type": "stream",
     "text": [
      " \n",
      "iteration number 5 done!\n"
     ]
    },
    {
     "name": "stderr",
     "output_type": "stream",
     "text": [
      "/Users/kennong/opt/anaconda3/lib/python3.9/site-packages/sklearn/cluster/_kmeans.py:1416: FutureWarning: The default value of `n_init` will change from 10 to 'auto' in 1.4. Set the value of `n_init` explicitly to suppress the warning\n",
      "  super()._check_params_vs_input(X, default_n_init=10)\n",
      "/Users/kennong/opt/anaconda3/lib/python3.9/site-packages/sklearn/cluster/_kmeans.py:1416: FutureWarning: The default value of `n_init` will change from 10 to 'auto' in 1.4. Set the value of `n_init` explicitly to suppress the warning\n",
      "  super()._check_params_vs_input(X, default_n_init=10)\n"
     ]
    },
    {
     "name": "stdout",
     "output_type": "stream",
     "text": [
      " \n",
      "iteration number 6 done!\n"
     ]
    },
    {
     "name": "stderr",
     "output_type": "stream",
     "text": [
      "/Users/kennong/opt/anaconda3/lib/python3.9/site-packages/sklearn/cluster/_kmeans.py:1416: FutureWarning: The default value of `n_init` will change from 10 to 'auto' in 1.4. Set the value of `n_init` explicitly to suppress the warning\n",
      "  super()._check_params_vs_input(X, default_n_init=10)\n",
      "/Users/kennong/opt/anaconda3/lib/python3.9/site-packages/sklearn/cluster/_kmeans.py:1416: FutureWarning: The default value of `n_init` will change from 10 to 'auto' in 1.4. Set the value of `n_init` explicitly to suppress the warning\n",
      "  super()._check_params_vs_input(X, default_n_init=10)\n"
     ]
    },
    {
     "name": "stdout",
     "output_type": "stream",
     "text": [
      " \n",
      "iteration number 7 done!\n"
     ]
    },
    {
     "name": "stderr",
     "output_type": "stream",
     "text": [
      "/Users/kennong/opt/anaconda3/lib/python3.9/site-packages/sklearn/cluster/_kmeans.py:1416: FutureWarning: The default value of `n_init` will change from 10 to 'auto' in 1.4. Set the value of `n_init` explicitly to suppress the warning\n",
      "  super()._check_params_vs_input(X, default_n_init=10)\n",
      "/Users/kennong/opt/anaconda3/lib/python3.9/site-packages/sklearn/cluster/_kmeans.py:1416: FutureWarning: The default value of `n_init` will change from 10 to 'auto' in 1.4. Set the value of `n_init` explicitly to suppress the warning\n",
      "  super()._check_params_vs_input(X, default_n_init=10)\n"
     ]
    },
    {
     "name": "stdout",
     "output_type": "stream",
     "text": [
      " \n",
      "iteration number 8 done!\n"
     ]
    },
    {
     "name": "stderr",
     "output_type": "stream",
     "text": [
      "/Users/kennong/opt/anaconda3/lib/python3.9/site-packages/sklearn/cluster/_kmeans.py:1416: FutureWarning: The default value of `n_init` will change from 10 to 'auto' in 1.4. Set the value of `n_init` explicitly to suppress the warning\n",
      "  super()._check_params_vs_input(X, default_n_init=10)\n",
      "/Users/kennong/opt/anaconda3/lib/python3.9/site-packages/sklearn/cluster/_kmeans.py:1416: FutureWarning: The default value of `n_init` will change from 10 to 'auto' in 1.4. Set the value of `n_init` explicitly to suppress the warning\n",
      "  super()._check_params_vs_input(X, default_n_init=10)\n"
     ]
    },
    {
     "name": "stdout",
     "output_type": "stream",
     "text": [
      " \n",
      "iteration number 9 done!\n"
     ]
    },
    {
     "name": "stderr",
     "output_type": "stream",
     "text": [
      "/Users/kennong/opt/anaconda3/lib/python3.9/site-packages/sklearn/cluster/_kmeans.py:1416: FutureWarning: The default value of `n_init` will change from 10 to 'auto' in 1.4. Set the value of `n_init` explicitly to suppress the warning\n",
      "  super()._check_params_vs_input(X, default_n_init=10)\n",
      "/Users/kennong/opt/anaconda3/lib/python3.9/site-packages/sklearn/cluster/_kmeans.py:1416: FutureWarning: The default value of `n_init` will change from 10 to 'auto' in 1.4. Set the value of `n_init` explicitly to suppress the warning\n",
      "  super()._check_params_vs_input(X, default_n_init=10)\n"
     ]
    },
    {
     "name": "stdout",
     "output_type": "stream",
     "text": [
      " \n",
      "iteration number 10 done!\n"
     ]
    },
    {
     "name": "stderr",
     "output_type": "stream",
     "text": [
      "/Users/kennong/opt/anaconda3/lib/python3.9/site-packages/sklearn/cluster/_kmeans.py:1416: FutureWarning: The default value of `n_init` will change from 10 to 'auto' in 1.4. Set the value of `n_init` explicitly to suppress the warning\n",
      "  super()._check_params_vs_input(X, default_n_init=10)\n",
      "/Users/kennong/opt/anaconda3/lib/python3.9/site-packages/sklearn/cluster/_kmeans.py:1416: FutureWarning: The default value of `n_init` will change from 10 to 'auto' in 1.4. Set the value of `n_init` explicitly to suppress the warning\n",
      "  super()._check_params_vs_input(X, default_n_init=10)\n"
     ]
    },
    {
     "name": "stdout",
     "output_type": "stream",
     "text": [
      " \n",
      "iteration number 11 done!\n"
     ]
    },
    {
     "name": "stderr",
     "output_type": "stream",
     "text": [
      "/Users/kennong/opt/anaconda3/lib/python3.9/site-packages/sklearn/cluster/_kmeans.py:1416: FutureWarning: The default value of `n_init` will change from 10 to 'auto' in 1.4. Set the value of `n_init` explicitly to suppress the warning\n",
      "  super()._check_params_vs_input(X, default_n_init=10)\n",
      "/Users/kennong/opt/anaconda3/lib/python3.9/site-packages/sklearn/cluster/_kmeans.py:1416: FutureWarning: The default value of `n_init` will change from 10 to 'auto' in 1.4. Set the value of `n_init` explicitly to suppress the warning\n",
      "  super()._check_params_vs_input(X, default_n_init=10)\n"
     ]
    },
    {
     "name": "stdout",
     "output_type": "stream",
     "text": [
      " \n",
      "iteration number 12 done!\n"
     ]
    },
    {
     "name": "stderr",
     "output_type": "stream",
     "text": [
      "/Users/kennong/opt/anaconda3/lib/python3.9/site-packages/sklearn/cluster/_kmeans.py:1416: FutureWarning: The default value of `n_init` will change from 10 to 'auto' in 1.4. Set the value of `n_init` explicitly to suppress the warning\n",
      "  super()._check_params_vs_input(X, default_n_init=10)\n",
      "/Users/kennong/opt/anaconda3/lib/python3.9/site-packages/sklearn/cluster/_kmeans.py:1416: FutureWarning: The default value of `n_init` will change from 10 to 'auto' in 1.4. Set the value of `n_init` explicitly to suppress the warning\n",
      "  super()._check_params_vs_input(X, default_n_init=10)\n"
     ]
    },
    {
     "name": "stdout",
     "output_type": "stream",
     "text": [
      " \n",
      "iteration number 13 done!\n"
     ]
    },
    {
     "name": "stderr",
     "output_type": "stream",
     "text": [
      "/Users/kennong/opt/anaconda3/lib/python3.9/site-packages/sklearn/cluster/_kmeans.py:1416: FutureWarning: The default value of `n_init` will change from 10 to 'auto' in 1.4. Set the value of `n_init` explicitly to suppress the warning\n",
      "  super()._check_params_vs_input(X, default_n_init=10)\n",
      "/Users/kennong/opt/anaconda3/lib/python3.9/site-packages/sklearn/cluster/_kmeans.py:1416: FutureWarning: The default value of `n_init` will change from 10 to 'auto' in 1.4. Set the value of `n_init` explicitly to suppress the warning\n",
      "  super()._check_params_vs_input(X, default_n_init=10)\n"
     ]
    },
    {
     "name": "stdout",
     "output_type": "stream",
     "text": [
      " \n",
      "iteration number 14 done!\n"
     ]
    },
    {
     "name": "stderr",
     "output_type": "stream",
     "text": [
      "/Users/kennong/opt/anaconda3/lib/python3.9/site-packages/sklearn/cluster/_kmeans.py:1416: FutureWarning: The default value of `n_init` will change from 10 to 'auto' in 1.4. Set the value of `n_init` explicitly to suppress the warning\n",
      "  super()._check_params_vs_input(X, default_n_init=10)\n",
      "/Users/kennong/opt/anaconda3/lib/python3.9/site-packages/sklearn/cluster/_kmeans.py:1416: FutureWarning: The default value of `n_init` will change from 10 to 'auto' in 1.4. Set the value of `n_init` explicitly to suppress the warning\n",
      "  super()._check_params_vs_input(X, default_n_init=10)\n"
     ]
    },
    {
     "name": "stdout",
     "output_type": "stream",
     "text": [
      " \n",
      "iteration number 15 done!\n"
     ]
    },
    {
     "name": "stderr",
     "output_type": "stream",
     "text": [
      "/Users/kennong/opt/anaconda3/lib/python3.9/site-packages/sklearn/cluster/_kmeans.py:1416: FutureWarning: The default value of `n_init` will change from 10 to 'auto' in 1.4. Set the value of `n_init` explicitly to suppress the warning\n",
      "  super()._check_params_vs_input(X, default_n_init=10)\n",
      "/Users/kennong/opt/anaconda3/lib/python3.9/site-packages/sklearn/cluster/_kmeans.py:1416: FutureWarning: The default value of `n_init` will change from 10 to 'auto' in 1.4. Set the value of `n_init` explicitly to suppress the warning\n",
      "  super()._check_params_vs_input(X, default_n_init=10)\n"
     ]
    },
    {
     "name": "stdout",
     "output_type": "stream",
     "text": [
      " \n",
      "iteration number 16 done!\n"
     ]
    },
    {
     "name": "stderr",
     "output_type": "stream",
     "text": [
      "/Users/kennong/opt/anaconda3/lib/python3.9/site-packages/sklearn/cluster/_kmeans.py:1416: FutureWarning: The default value of `n_init` will change from 10 to 'auto' in 1.4. Set the value of `n_init` explicitly to suppress the warning\n",
      "  super()._check_params_vs_input(X, default_n_init=10)\n",
      "/Users/kennong/opt/anaconda3/lib/python3.9/site-packages/sklearn/cluster/_kmeans.py:1416: FutureWarning: The default value of `n_init` will change from 10 to 'auto' in 1.4. Set the value of `n_init` explicitly to suppress the warning\n",
      "  super()._check_params_vs_input(X, default_n_init=10)\n"
     ]
    },
    {
     "name": "stdout",
     "output_type": "stream",
     "text": [
      " \n",
      "iteration number 17 done!\n"
     ]
    },
    {
     "name": "stderr",
     "output_type": "stream",
     "text": [
      "/Users/kennong/opt/anaconda3/lib/python3.9/site-packages/sklearn/cluster/_kmeans.py:1416: FutureWarning: The default value of `n_init` will change from 10 to 'auto' in 1.4. Set the value of `n_init` explicitly to suppress the warning\n",
      "  super()._check_params_vs_input(X, default_n_init=10)\n",
      "/Users/kennong/opt/anaconda3/lib/python3.9/site-packages/sklearn/cluster/_kmeans.py:1416: FutureWarning: The default value of `n_init` will change from 10 to 'auto' in 1.4. Set the value of `n_init` explicitly to suppress the warning\n",
      "  super()._check_params_vs_input(X, default_n_init=10)\n"
     ]
    },
    {
     "name": "stdout",
     "output_type": "stream",
     "text": [
      " \n",
      "iteration number 18 done!\n"
     ]
    },
    {
     "name": "stderr",
     "output_type": "stream",
     "text": [
      "/Users/kennong/opt/anaconda3/lib/python3.9/site-packages/sklearn/cluster/_kmeans.py:1416: FutureWarning: The default value of `n_init` will change from 10 to 'auto' in 1.4. Set the value of `n_init` explicitly to suppress the warning\n",
      "  super()._check_params_vs_input(X, default_n_init=10)\n",
      "/Users/kennong/opt/anaconda3/lib/python3.9/site-packages/sklearn/cluster/_kmeans.py:1416: FutureWarning: The default value of `n_init` will change from 10 to 'auto' in 1.4. Set the value of `n_init` explicitly to suppress the warning\n",
      "  super()._check_params_vs_input(X, default_n_init=10)\n"
     ]
    },
    {
     "name": "stdout",
     "output_type": "stream",
     "text": [
      " \n",
      "iteration number 19 done!\n"
     ]
    },
    {
     "data": {
      "image/png": "[encoded data removed]",
      "text/plain": [
       "<Figure size 432x288 with 1 Axes>"
      ]
     },
     "metadata": {
      "needs_background": "light"
     },
     "output_type": "display_data"
    },
    {
     "name": "stdout",
     "output_type": "stream",
     "text": [
      "The optimal number of clusters based on the elbow method is: 3\n"
     ]
    },
    {
     "data": {
      "text/plain": [
       "3\n",
       "1    4337\n",
       "2     315\n",
       "0     131\n",
       "Name: count, dtype: int64"
      ]
     },
     "execution_count": 120,
     "metadata": {},
     "output_type": "execute_result"
    }
   ],
   "source": [
    "regime_dict1 = {}\n",
    "\n",
    "inertia_list1 = []\n",
    "\n",
    "#clustering to detect regime change \n",
    "max_clusters = len(pd.unique(X.index.year)) #10\n",
    "\n",
    "X_scaled = TimeSeriesScalerMeanVariance().fit_transform(spy_vix)\n",
    "X_scaled = X_scaled.reshape(X_scaled.shape[0], -1)\n",
    "\n",
    "# Compute DTW distances\n",
    "dtw_distances = pairwise_distances(X_scaled, metric=dtw)\n",
    "\n",
    "for num_cluster in range(2, max_clusters):\n",
    "    kmeans_model = KMeans(n_clusters=num_cluster, random_state=627)\n",
    "    kmeans_model.fit(dtw_distances)\n",
    "    inertia_list1.append(kmeans_model.inertia_)\n",
    "    spy_vix['cluster_label'] =\\\n",
    "    (kmeans_model\n",
    "             .fit_predict(dtw_distances)\n",
    "    )\n",
    "    \n",
    "    regime_dict1[num_cluster] = spy_vix['cluster_label']\n",
    "    print(\" \")\n",
    "    print(\"iteration number {} done!\".format(num_cluster))\n",
    "    \n",
    "    \n",
    "# Plot the elbow curve\n",
    "plt.plot(np.arange(len(inertia_list1)), inertia_list1, marker='o')\n",
    "plt.xlabel('Number of Clusters (k)')\n",
    "plt.ylabel('Inertia')\n",
    "plt.title('Elbow Method for Optimal k')\n",
    "plt.show()\n",
    "\n",
    "def find_optimal_clusters(inertia_values):\n",
    "    # Calculate the second derivative of the inertia values\n",
    "    second_derivative = np.gradient(np.gradient(inertia_values))\n",
    "    \n",
    "    # Find the index of the maximum value in the second derivative\n",
    "    optimal_index = np.argmax(second_derivative)\n",
    "    \n",
    "    # The optimal number of clusters is the index + 2 (since indexing starts from 0 and we start from k=2)\n",
    "    optimal_clusters = optimal_index + 2\n",
    "    \n",
    "    return optimal_clusters\n",
    "\n",
    "# Use the function to find the optimal number of clusters\n",
    "optimal_clusters1 = find_optimal_clusters(inertia_list1)\n",
    "\n",
    "print(f\"The optimal number of clusters based on the elbow method is: {optimal_clusters1}\")\n",
    "\n",
    "regime_dict_df1 = pd.DataFrame(regime_dict1, columns = regime_dict1.keys())\n",
    "regime_dict_df1[optimal_clusters1].value_counts()"
   ]
  },
  {
   "cell_type": "code",
   "execution_count": 122,
   "id": "5f250bcf",
   "metadata": {},
   "outputs": [
    {
     "data": {
      "text/plain": [
       "Date\n",
       "2004-11-01    1\n",
       "2004-11-02    1\n",
       "2004-11-03    1\n",
       "2004-11-04    1\n",
       "2004-11-05    1\n",
       "             ..\n",
       "2023-10-25    1\n",
       "2023-10-26    1\n",
       "2023-10-27    1\n",
       "2023-10-30    1\n",
       "2023-10-31    1\n",
       "Name: 3, Length: 4783, dtype: int32"
      ]
     },
     "execution_count": 122,
     "metadata": {},
     "output_type": "execute_result"
    }
   ],
   "source": [
    "regime_dict_df1[3]"
   ]
  },
  {
   "cell_type": "code",
   "execution_count": 123,
   "id": "88832d06",
   "metadata": {},
   "outputs": [
    {
     "data": {
      "text/plain": [
       "<Axes: xlabel='Date'>"
      ]
     },
     "execution_count": 123,
     "metadata": {},
     "output_type": "execute_result"
    },
    {
     "data": {
      "image/png": "[encoded data removed]",
      "text/plain": [
       "<Figure size 1152x432 with 1 Axes>"
      ]
     },
     "metadata": {
      "needs_background": "light"
     },
     "output_type": "display_data"
    }
   ],
   "source": [
    "Y.cumsum().apply(np.exp).plot(figsize = [16, 6])\n",
    "\n",
    "regime_dict_df1[optimal_clusters1][regime_dict_df1[optimal_clusters1] == 0].plot(figsize = [16, 6],\n",
    "          marker = \"^\", \n",
    "          color = \"green\",\n",
    "          markersize = 1,\n",
    "          alpha = 0.2\n",
    "         )\n",
    "\n",
    "regime_dict_df1[optimal_clusters1][regime_dict_df1[optimal_clusters1] == 1].plot(figsize = [16, 6],\n",
    "          marker = \"^\", \n",
    "          color = \"blue\",\n",
    "          markersize = 1,\n",
    "          alpha = 0.2\n",
    "         )\n",
    "\n",
    "regime_dict_df1[optimal_clusters1][regime_dict_df1[optimal_clusters1] == 2].plot(figsize = [16, 6],\n",
    "          marker = \"^\", \n",
    "          color = \"black\",\n",
    "          markersize = 1,\n",
    "          alpha = 0.2\n",
    "         )\n"
   ]
  },
  {
   "cell_type": "code",
   "execution_count": 124,
   "id": "95d24b29",
   "metadata": {},
   "outputs": [],
   "source": [
    "regime_dict_df1.to_excel(\"regime_dict_spy_vix.xlsx\")"
   ]
  },
  {
   "cell_type": "code",
   "execution_count": 133,
   "id": "559d8953",
   "metadata": {},
   "outputs": [],
   "source": [
    "#DTW doesn't work on spy_tnx data as the pairwise function produces Nan values"
   ]
  },
  {
   "cell_type": "markdown",
   "id": "394a6bdf",
   "metadata": {},
   "source": [
    "regime_dict2 = {}\n",
    "\n",
    "inertia_list2 = []\n",
    "\n",
    "#clustering to detect regime change \n",
    "max_clusters = len(pd.unique(X.index.year)) #10\n",
    "\n",
    "X_scaled = TimeSeriesScalerMeanVariance().fit_transform(spy_tnx)\n",
    "X_scaled = X_scaled.reshape(X_scaled.shape[0], -1)\n",
    "\n",
    "# Compute DTW distances\n",
    "dtw_distances = pairwise_distances(X_scaled, metric=dtw)\n",
    "\n",
    "for num_cluster in range(2, max_clusters):\n",
    "    kmeans_model = KMeans(n_clusters=num_cluster, random_state=627)\n",
    "    kmeans_model.fit(dtw_distances)\n",
    "    inertia_list2.append(kmeans_model.inertia_)\n",
    "    spy_tnx['cluster_label'] =\\\n",
    "    (kmeans_model\n",
    "             .fit_predict(dtw_distances)\n",
    "    )\n",
    "    \n",
    "    regime_dict2[num_cluster] = spy_tnx['cluster_label']\n",
    "    print(\" \")\n",
    "    print(\"iteration number {} done!\".format(num_cluster))\n",
    "    \n",
    "    \n",
    "# Plot the elbow curve\n",
    "plt.plot(np.arange(len(inertia_list2)), inertia_list2, marker='o')\n",
    "plt.xlabel('Number of Clusters (k)')\n",
    "plt.ylabel('Inertia')\n",
    "plt.title('Elbow Method for Optimal k')\n",
    "plt.show()\n",
    "\n",
    "def find_optimal_clusters(inertia_values):\n",
    "    # Calculate the second derivative of the inertia values\n",
    "    second_derivative = np.gradient(np.gradient(inertia_values))\n",
    "    \n",
    "    # Find the index of the maximum value in the second derivative\n",
    "    optimal_index = np.argmax(second_derivative)\n",
    "    \n",
    "    # The optimal number of clusters is the index + 2 (since indexing starts from 0 and we start from k=2)\n",
    "    optimal_clusters = optimal_index + 2\n",
    "    \n",
    "    return optimal_clusters\n",
    "\n",
    "# Use the function to find the optimal number of clusters\n",
    "optimal_clusters2 = find_optimal_clusters(inertia_list2)\n",
    "\n",
    "print(f\"The optimal number of clusters based on the elbow method is: {optimal_clusters2}\")\n",
    "\n",
    "regime_dict_df2 = pd.DataFrame(regime_dict2, columns = regime_dict2.keys())\n",
    "regime_dict_df2[optimal_clusters2].value_counts()"
   ]
  },
  {
   "cell_type": "markdown",
   "id": "1c121fcf",
   "metadata": {},
   "source": [
    "regime_dict_df2.to_excel(\"regime_dict_spy_tnx.xlsx\")"
   ]
  },
  {
   "cell_type": "code",
   "execution_count": 126,
   "id": "06edb480",
   "metadata": {},
   "outputs": [
    {
     "name": "stderr",
     "output_type": "stream",
     "text": [
      "/Users/kennong/opt/anaconda3/lib/python3.9/site-packages/sklearn/cluster/_kmeans.py:1416: FutureWarning: The default value of `n_init` will change from 10 to 'auto' in 1.4. Set the value of `n_init` explicitly to suppress the warning\n",
      "  super()._check_params_vs_input(X, default_n_init=10)\n",
      "/Users/kennong/opt/anaconda3/lib/python3.9/site-packages/sklearn/cluster/_kmeans.py:1416: FutureWarning: The default value of `n_init` will change from 10 to 'auto' in 1.4. Set the value of `n_init` explicitly to suppress the warning\n",
      "  super()._check_params_vs_input(X, default_n_init=10)\n"
     ]
    },
    {
     "name": "stdout",
     "output_type": "stream",
     "text": [
      " \n",
      "iteration number 2 done!\n"
     ]
    },
    {
     "name": "stderr",
     "output_type": "stream",
     "text": [
      "/Users/kennong/opt/anaconda3/lib/python3.9/site-packages/sklearn/cluster/_kmeans.py:1416: FutureWarning: The default value of `n_init` will change from 10 to 'auto' in 1.4. Set the value of `n_init` explicitly to suppress the warning\n",
      "  super()._check_params_vs_input(X, default_n_init=10)\n",
      "/Users/kennong/opt/anaconda3/lib/python3.9/site-packages/sklearn/base.py:1152: ConvergenceWarning: Number of distinct clusters (2) found smaller than n_clusters (3). Possibly due to duplicate points in X.\n",
      "  return fit_method(estimator, *args, **kwargs)\n",
      "/Users/kennong/opt/anaconda3/lib/python3.9/site-packages/sklearn/cluster/_kmeans.py:1416: FutureWarning: The default value of `n_init` will change from 10 to 'auto' in 1.4. Set the value of `n_init` explicitly to suppress the warning\n",
      "  super()._check_params_vs_input(X, default_n_init=10)\n",
      "/Users/kennong/opt/anaconda3/lib/python3.9/site-packages/sklearn/base.py:1152: ConvergenceWarning: Number of distinct clusters (2) found smaller than n_clusters (3). Possibly due to duplicate points in X.\n",
      "  return fit_method(estimator, *args, **kwargs)\n"
     ]
    },
    {
     "name": "stdout",
     "output_type": "stream",
     "text": [
      " \n",
      "iteration number 3 done!\n"
     ]
    },
    {
     "name": "stderr",
     "output_type": "stream",
     "text": [
      "/Users/kennong/opt/anaconda3/lib/python3.9/site-packages/sklearn/cluster/_kmeans.py:1416: FutureWarning: The default value of `n_init` will change from 10 to 'auto' in 1.4. Set the value of `n_init` explicitly to suppress the warning\n",
      "  super()._check_params_vs_input(X, default_n_init=10)\n",
      "/Users/kennong/opt/anaconda3/lib/python3.9/site-packages/sklearn/base.py:1152: ConvergenceWarning: Number of distinct clusters (2) found smaller than n_clusters (4). Possibly due to duplicate points in X.\n",
      "  return fit_method(estimator, *args, **kwargs)\n",
      "/Users/kennong/opt/anaconda3/lib/python3.9/site-packages/sklearn/cluster/_kmeans.py:1416: FutureWarning: The default value of `n_init` will change from 10 to 'auto' in 1.4. Set the value of `n_init` explicitly to suppress the warning\n",
      "  super()._check_params_vs_input(X, default_n_init=10)\n",
      "/Users/kennong/opt/anaconda3/lib/python3.9/site-packages/sklearn/base.py:1152: ConvergenceWarning: Number of distinct clusters (2) found smaller than n_clusters (4). Possibly due to duplicate points in X.\n",
      "  return fit_method(estimator, *args, **kwargs)\n"
     ]
    },
    {
     "name": "stdout",
     "output_type": "stream",
     "text": [
      " \n",
      "iteration number 4 done!\n"
     ]
    },
    {
     "name": "stderr",
     "output_type": "stream",
     "text": [
      "/Users/kennong/opt/anaconda3/lib/python3.9/site-packages/sklearn/cluster/_kmeans.py:1416: FutureWarning: The default value of `n_init` will change from 10 to 'auto' in 1.4. Set the value of `n_init` explicitly to suppress the warning\n",
      "  super()._check_params_vs_input(X, default_n_init=10)\n",
      "/Users/kennong/opt/anaconda3/lib/python3.9/site-packages/sklearn/base.py:1152: ConvergenceWarning: Number of distinct clusters (2) found smaller than n_clusters (5). Possibly due to duplicate points in X.\n",
      "  return fit_method(estimator, *args, **kwargs)\n",
      "/Users/kennong/opt/anaconda3/lib/python3.9/site-packages/sklearn/cluster/_kmeans.py:1416: FutureWarning: The default value of `n_init` will change from 10 to 'auto' in 1.4. Set the value of `n_init` explicitly to suppress the warning\n",
      "  super()._check_params_vs_input(X, default_n_init=10)\n",
      "/Users/kennong/opt/anaconda3/lib/python3.9/site-packages/sklearn/base.py:1152: ConvergenceWarning: Number of distinct clusters (2) found smaller than n_clusters (5). Possibly due to duplicate points in X.\n",
      "  return fit_method(estimator, *args, **kwargs)\n"
     ]
    },
    {
     "name": "stdout",
     "output_type": "stream",
     "text": [
      " \n",
      "iteration number 5 done!\n"
     ]
    },
    {
     "name": "stderr",
     "output_type": "stream",
     "text": [
      "/Users/kennong/opt/anaconda3/lib/python3.9/site-packages/sklearn/cluster/_kmeans.py:1416: FutureWarning: The default value of `n_init` will change from 10 to 'auto' in 1.4. Set the value of `n_init` explicitly to suppress the warning\n",
      "  super()._check_params_vs_input(X, default_n_init=10)\n",
      "/Users/kennong/opt/anaconda3/lib/python3.9/site-packages/sklearn/base.py:1152: ConvergenceWarning: Number of distinct clusters (2) found smaller than n_clusters (6). Possibly due to duplicate points in X.\n",
      "  return fit_method(estimator, *args, **kwargs)\n",
      "/Users/kennong/opt/anaconda3/lib/python3.9/site-packages/sklearn/cluster/_kmeans.py:1416: FutureWarning: The default value of `n_init` will change from 10 to 'auto' in 1.4. Set the value of `n_init` explicitly to suppress the warning\n",
      "  super()._check_params_vs_input(X, default_n_init=10)\n",
      "/Users/kennong/opt/anaconda3/lib/python3.9/site-packages/sklearn/base.py:1152: ConvergenceWarning: Number of distinct clusters (2) found smaller than n_clusters (6). Possibly due to duplicate points in X.\n",
      "  return fit_method(estimator, *args, **kwargs)\n"
     ]
    },
    {
     "name": "stdout",
     "output_type": "stream",
     "text": [
      " \n",
      "iteration number 6 done!\n"
     ]
    },
    {
     "name": "stderr",
     "output_type": "stream",
     "text": [
      "/Users/kennong/opt/anaconda3/lib/python3.9/site-packages/sklearn/cluster/_kmeans.py:1416: FutureWarning: The default value of `n_init` will change from 10 to 'auto' in 1.4. Set the value of `n_init` explicitly to suppress the warning\n",
      "  super()._check_params_vs_input(X, default_n_init=10)\n",
      "/Users/kennong/opt/anaconda3/lib/python3.9/site-packages/sklearn/base.py:1152: ConvergenceWarning: Number of distinct clusters (2) found smaller than n_clusters (7). Possibly due to duplicate points in X.\n",
      "  return fit_method(estimator, *args, **kwargs)\n",
      "/Users/kennong/opt/anaconda3/lib/python3.9/site-packages/sklearn/cluster/_kmeans.py:1416: FutureWarning: The default value of `n_init` will change from 10 to 'auto' in 1.4. Set the value of `n_init` explicitly to suppress the warning\n",
      "  super()._check_params_vs_input(X, default_n_init=10)\n",
      "/Users/kennong/opt/anaconda3/lib/python3.9/site-packages/sklearn/base.py:1152: ConvergenceWarning: Number of distinct clusters (2) found smaller than n_clusters (7). Possibly due to duplicate points in X.\n",
      "  return fit_method(estimator, *args, **kwargs)\n"
     ]
    },
    {
     "name": "stdout",
     "output_type": "stream",
     "text": [
      " \n",
      "iteration number 7 done!\n"
     ]
    },
    {
     "name": "stderr",
     "output_type": "stream",
     "text": [
      "/Users/kennong/opt/anaconda3/lib/python3.9/site-packages/sklearn/cluster/_kmeans.py:1416: FutureWarning: The default value of `n_init` will change from 10 to 'auto' in 1.4. Set the value of `n_init` explicitly to suppress the warning\n",
      "  super()._check_params_vs_input(X, default_n_init=10)\n",
      "/Users/kennong/opt/anaconda3/lib/python3.9/site-packages/sklearn/base.py:1152: ConvergenceWarning: Number of distinct clusters (2) found smaller than n_clusters (8). Possibly due to duplicate points in X.\n",
      "  return fit_method(estimator, *args, **kwargs)\n",
      "/Users/kennong/opt/anaconda3/lib/python3.9/site-packages/sklearn/cluster/_kmeans.py:1416: FutureWarning: The default value of `n_init` will change from 10 to 'auto' in 1.4. Set the value of `n_init` explicitly to suppress the warning\n",
      "  super()._check_params_vs_input(X, default_n_init=10)\n",
      "/Users/kennong/opt/anaconda3/lib/python3.9/site-packages/sklearn/base.py:1152: ConvergenceWarning: Number of distinct clusters (2) found smaller than n_clusters (8). Possibly due to duplicate points in X.\n",
      "  return fit_method(estimator, *args, **kwargs)\n"
     ]
    },
    {
     "name": "stdout",
     "output_type": "stream",
     "text": [
      " \n",
      "iteration number 8 done!\n"
     ]
    },
    {
     "name": "stderr",
     "output_type": "stream",
     "text": [
      "/Users/kennong/opt/anaconda3/lib/python3.9/site-packages/sklearn/cluster/_kmeans.py:1416: FutureWarning: The default value of `n_init` will change from 10 to 'auto' in 1.4. Set the value of `n_init` explicitly to suppress the warning\n",
      "  super()._check_params_vs_input(X, default_n_init=10)\n",
      "/Users/kennong/opt/anaconda3/lib/python3.9/site-packages/sklearn/base.py:1152: ConvergenceWarning: Number of distinct clusters (2) found smaller than n_clusters (9). Possibly due to duplicate points in X.\n",
      "  return fit_method(estimator, *args, **kwargs)\n",
      "/Users/kennong/opt/anaconda3/lib/python3.9/site-packages/sklearn/cluster/_kmeans.py:1416: FutureWarning: The default value of `n_init` will change from 10 to 'auto' in 1.4. Set the value of `n_init` explicitly to suppress the warning\n",
      "  super()._check_params_vs_input(X, default_n_init=10)\n",
      "/Users/kennong/opt/anaconda3/lib/python3.9/site-packages/sklearn/base.py:1152: ConvergenceWarning: Number of distinct clusters (2) found smaller than n_clusters (9). Possibly due to duplicate points in X.\n",
      "  return fit_method(estimator, *args, **kwargs)\n"
     ]
    },
    {
     "name": "stdout",
     "output_type": "stream",
     "text": [
      " \n",
      "iteration number 9 done!\n"
     ]
    },
    {
     "name": "stderr",
     "output_type": "stream",
     "text": [
      "/Users/kennong/opt/anaconda3/lib/python3.9/site-packages/sklearn/cluster/_kmeans.py:1416: FutureWarning: The default value of `n_init` will change from 10 to 'auto' in 1.4. Set the value of `n_init` explicitly to suppress the warning\n",
      "  super()._check_params_vs_input(X, default_n_init=10)\n",
      "/Users/kennong/opt/anaconda3/lib/python3.9/site-packages/sklearn/base.py:1152: ConvergenceWarning: Number of distinct clusters (2) found smaller than n_clusters (10). Possibly due to duplicate points in X.\n",
      "  return fit_method(estimator, *args, **kwargs)\n",
      "/Users/kennong/opt/anaconda3/lib/python3.9/site-packages/sklearn/cluster/_kmeans.py:1416: FutureWarning: The default value of `n_init` will change from 10 to 'auto' in 1.4. Set the value of `n_init` explicitly to suppress the warning\n",
      "  super()._check_params_vs_input(X, default_n_init=10)\n",
      "/Users/kennong/opt/anaconda3/lib/python3.9/site-packages/sklearn/base.py:1152: ConvergenceWarning: Number of distinct clusters (2) found smaller than n_clusters (10). Possibly due to duplicate points in X.\n",
      "  return fit_method(estimator, *args, **kwargs)\n"
     ]
    },
    {
     "name": "stdout",
     "output_type": "stream",
     "text": [
      " \n",
      "iteration number 10 done!\n"
     ]
    },
    {
     "name": "stderr",
     "output_type": "stream",
     "text": [
      "/Users/kennong/opt/anaconda3/lib/python3.9/site-packages/sklearn/cluster/_kmeans.py:1416: FutureWarning: The default value of `n_init` will change from 10 to 'auto' in 1.4. Set the value of `n_init` explicitly to suppress the warning\n",
      "  super()._check_params_vs_input(X, default_n_init=10)\n",
      "/Users/kennong/opt/anaconda3/lib/python3.9/site-packages/sklearn/base.py:1152: ConvergenceWarning: Number of distinct clusters (2) found smaller than n_clusters (11). Possibly due to duplicate points in X.\n",
      "  return fit_method(estimator, *args, **kwargs)\n",
      "/Users/kennong/opt/anaconda3/lib/python3.9/site-packages/sklearn/cluster/_kmeans.py:1416: FutureWarning: The default value of `n_init` will change from 10 to 'auto' in 1.4. Set the value of `n_init` explicitly to suppress the warning\n",
      "  super()._check_params_vs_input(X, default_n_init=10)\n",
      "/Users/kennong/opt/anaconda3/lib/python3.9/site-packages/sklearn/base.py:1152: ConvergenceWarning: Number of distinct clusters (2) found smaller than n_clusters (11). Possibly due to duplicate points in X.\n",
      "  return fit_method(estimator, *args, **kwargs)\n"
     ]
    },
    {
     "name": "stdout",
     "output_type": "stream",
     "text": [
      " \n",
      "iteration number 11 done!\n"
     ]
    },
    {
     "name": "stderr",
     "output_type": "stream",
     "text": [
      "/Users/kennong/opt/anaconda3/lib/python3.9/site-packages/sklearn/cluster/_kmeans.py:1416: FutureWarning: The default value of `n_init` will change from 10 to 'auto' in 1.4. Set the value of `n_init` explicitly to suppress the warning\n",
      "  super()._check_params_vs_input(X, default_n_init=10)\n",
      "/Users/kennong/opt/anaconda3/lib/python3.9/site-packages/sklearn/base.py:1152: ConvergenceWarning: Number of distinct clusters (2) found smaller than n_clusters (12). Possibly due to duplicate points in X.\n",
      "  return fit_method(estimator, *args, **kwargs)\n",
      "/Users/kennong/opt/anaconda3/lib/python3.9/site-packages/sklearn/cluster/_kmeans.py:1416: FutureWarning: The default value of `n_init` will change from 10 to 'auto' in 1.4. Set the value of `n_init` explicitly to suppress the warning\n",
      "  super()._check_params_vs_input(X, default_n_init=10)\n",
      "/Users/kennong/opt/anaconda3/lib/python3.9/site-packages/sklearn/base.py:1152: ConvergenceWarning: Number of distinct clusters (2) found smaller than n_clusters (12). Possibly due to duplicate points in X.\n",
      "  return fit_method(estimator, *args, **kwargs)\n"
     ]
    },
    {
     "name": "stdout",
     "output_type": "stream",
     "text": [
      " \n",
      "iteration number 12 done!\n"
     ]
    },
    {
     "name": "stderr",
     "output_type": "stream",
     "text": [
      "/Users/kennong/opt/anaconda3/lib/python3.9/site-packages/sklearn/cluster/_kmeans.py:1416: FutureWarning: The default value of `n_init` will change from 10 to 'auto' in 1.4. Set the value of `n_init` explicitly to suppress the warning\n",
      "  super()._check_params_vs_input(X, default_n_init=10)\n",
      "/Users/kennong/opt/anaconda3/lib/python3.9/site-packages/sklearn/base.py:1152: ConvergenceWarning: Number of distinct clusters (2) found smaller than n_clusters (13). Possibly due to duplicate points in X.\n",
      "  return fit_method(estimator, *args, **kwargs)\n",
      "/Users/kennong/opt/anaconda3/lib/python3.9/site-packages/sklearn/cluster/_kmeans.py:1416: FutureWarning: The default value of `n_init` will change from 10 to 'auto' in 1.4. Set the value of `n_init` explicitly to suppress the warning\n",
      "  super()._check_params_vs_input(X, default_n_init=10)\n",
      "/Users/kennong/opt/anaconda3/lib/python3.9/site-packages/sklearn/base.py:1152: ConvergenceWarning: Number of distinct clusters (2) found smaller than n_clusters (13). Possibly due to duplicate points in X.\n",
      "  return fit_method(estimator, *args, **kwargs)\n"
     ]
    },
    {
     "name": "stdout",
     "output_type": "stream",
     "text": [
      " \n",
      "iteration number 13 done!\n"
     ]
    },
    {
     "name": "stderr",
     "output_type": "stream",
     "text": [
      "/Users/kennong/opt/anaconda3/lib/python3.9/site-packages/sklearn/cluster/_kmeans.py:1416: FutureWarning: The default value of `n_init` will change from 10 to 'auto' in 1.4. Set the value of `n_init` explicitly to suppress the warning\n",
      "  super()._check_params_vs_input(X, default_n_init=10)\n",
      "/Users/kennong/opt/anaconda3/lib/python3.9/site-packages/sklearn/base.py:1152: ConvergenceWarning: Number of distinct clusters (2) found smaller than n_clusters (14). Possibly due to duplicate points in X.\n",
      "  return fit_method(estimator, *args, **kwargs)\n",
      "/Users/kennong/opt/anaconda3/lib/python3.9/site-packages/sklearn/cluster/_kmeans.py:1416: FutureWarning: The default value of `n_init` will change from 10 to 'auto' in 1.4. Set the value of `n_init` explicitly to suppress the warning\n",
      "  super()._check_params_vs_input(X, default_n_init=10)\n",
      "/Users/kennong/opt/anaconda3/lib/python3.9/site-packages/sklearn/base.py:1152: ConvergenceWarning: Number of distinct clusters (2) found smaller than n_clusters (14). Possibly due to duplicate points in X.\n",
      "  return fit_method(estimator, *args, **kwargs)\n"
     ]
    },
    {
     "name": "stdout",
     "output_type": "stream",
     "text": [
      " \n",
      "iteration number 14 done!\n"
     ]
    },
    {
     "name": "stderr",
     "output_type": "stream",
     "text": [
      "/Users/kennong/opt/anaconda3/lib/python3.9/site-packages/sklearn/cluster/_kmeans.py:1416: FutureWarning: The default value of `n_init` will change from 10 to 'auto' in 1.4. Set the value of `n_init` explicitly to suppress the warning\n",
      "  super()._check_params_vs_input(X, default_n_init=10)\n",
      "/Users/kennong/opt/anaconda3/lib/python3.9/site-packages/sklearn/base.py:1152: ConvergenceWarning: Number of distinct clusters (2) found smaller than n_clusters (15). Possibly due to duplicate points in X.\n",
      "  return fit_method(estimator, *args, **kwargs)\n",
      "/Users/kennong/opt/anaconda3/lib/python3.9/site-packages/sklearn/cluster/_kmeans.py:1416: FutureWarning: The default value of `n_init` will change from 10 to 'auto' in 1.4. Set the value of `n_init` explicitly to suppress the warning\n",
      "  super()._check_params_vs_input(X, default_n_init=10)\n",
      "/Users/kennong/opt/anaconda3/lib/python3.9/site-packages/sklearn/base.py:1152: ConvergenceWarning: Number of distinct clusters (2) found smaller than n_clusters (15). Possibly due to duplicate points in X.\n",
      "  return fit_method(estimator, *args, **kwargs)\n"
     ]
    },
    {
     "name": "stdout",
     "output_type": "stream",
     "text": [
      " \n",
      "iteration number 15 done!\n"
     ]
    },
    {
     "name": "stderr",
     "output_type": "stream",
     "text": [
      "/Users/kennong/opt/anaconda3/lib/python3.9/site-packages/sklearn/cluster/_kmeans.py:1416: FutureWarning: The default value of `n_init` will change from 10 to 'auto' in 1.4. Set the value of `n_init` explicitly to suppress the warning\n",
      "  super()._check_params_vs_input(X, default_n_init=10)\n",
      "/Users/kennong/opt/anaconda3/lib/python3.9/site-packages/sklearn/base.py:1152: ConvergenceWarning: Number of distinct clusters (2) found smaller than n_clusters (16). Possibly due to duplicate points in X.\n",
      "  return fit_method(estimator, *args, **kwargs)\n",
      "/Users/kennong/opt/anaconda3/lib/python3.9/site-packages/sklearn/cluster/_kmeans.py:1416: FutureWarning: The default value of `n_init` will change from 10 to 'auto' in 1.4. Set the value of `n_init` explicitly to suppress the warning\n",
      "  super()._check_params_vs_input(X, default_n_init=10)\n",
      "/Users/kennong/opt/anaconda3/lib/python3.9/site-packages/sklearn/base.py:1152: ConvergenceWarning: Number of distinct clusters (2) found smaller than n_clusters (16). Possibly due to duplicate points in X.\n",
      "  return fit_method(estimator, *args, **kwargs)\n"
     ]
    },
    {
     "name": "stdout",
     "output_type": "stream",
     "text": [
      " \n",
      "iteration number 16 done!\n"
     ]
    },
    {
     "name": "stderr",
     "output_type": "stream",
     "text": [
      "/Users/kennong/opt/anaconda3/lib/python3.9/site-packages/sklearn/cluster/_kmeans.py:1416: FutureWarning: The default value of `n_init` will change from 10 to 'auto' in 1.4. Set the value of `n_init` explicitly to suppress the warning\n",
      "  super()._check_params_vs_input(X, default_n_init=10)\n",
      "/Users/kennong/opt/anaconda3/lib/python3.9/site-packages/sklearn/base.py:1152: ConvergenceWarning: Number of distinct clusters (2) found smaller than n_clusters (17). Possibly due to duplicate points in X.\n",
      "  return fit_method(estimator, *args, **kwargs)\n",
      "/Users/kennong/opt/anaconda3/lib/python3.9/site-packages/sklearn/cluster/_kmeans.py:1416: FutureWarning: The default value of `n_init` will change from 10 to 'auto' in 1.4. Set the value of `n_init` explicitly to suppress the warning\n",
      "  super()._check_params_vs_input(X, default_n_init=10)\n",
      "/Users/kennong/opt/anaconda3/lib/python3.9/site-packages/sklearn/base.py:1152: ConvergenceWarning: Number of distinct clusters (2) found smaller than n_clusters (17). Possibly due to duplicate points in X.\n",
      "  return fit_method(estimator, *args, **kwargs)\n"
     ]
    },
    {
     "name": "stdout",
     "output_type": "stream",
     "text": [
      " \n",
      "iteration number 17 done!\n"
     ]
    },
    {
     "name": "stderr",
     "output_type": "stream",
     "text": [
      "/Users/kennong/opt/anaconda3/lib/python3.9/site-packages/sklearn/cluster/_kmeans.py:1416: FutureWarning: The default value of `n_init` will change from 10 to 'auto' in 1.4. Set the value of `n_init` explicitly to suppress the warning\n",
      "  super()._check_params_vs_input(X, default_n_init=10)\n",
      "/Users/kennong/opt/anaconda3/lib/python3.9/site-packages/sklearn/base.py:1152: ConvergenceWarning: Number of distinct clusters (2) found smaller than n_clusters (18). Possibly due to duplicate points in X.\n",
      "  return fit_method(estimator, *args, **kwargs)\n",
      "/Users/kennong/opt/anaconda3/lib/python3.9/site-packages/sklearn/cluster/_kmeans.py:1416: FutureWarning: The default value of `n_init` will change from 10 to 'auto' in 1.4. Set the value of `n_init` explicitly to suppress the warning\n",
      "  super()._check_params_vs_input(X, default_n_init=10)\n",
      "/Users/kennong/opt/anaconda3/lib/python3.9/site-packages/sklearn/base.py:1152: ConvergenceWarning: Number of distinct clusters (2) found smaller than n_clusters (18). Possibly due to duplicate points in X.\n",
      "  return fit_method(estimator, *args, **kwargs)\n"
     ]
    },
    {
     "name": "stdout",
     "output_type": "stream",
     "text": [
      " \n",
      "iteration number 18 done!\n"
     ]
    },
    {
     "name": "stderr",
     "output_type": "stream",
     "text": [
      "/Users/kennong/opt/anaconda3/lib/python3.9/site-packages/sklearn/cluster/_kmeans.py:1416: FutureWarning: The default value of `n_init` will change from 10 to 'auto' in 1.4. Set the value of `n_init` explicitly to suppress the warning\n",
      "  super()._check_params_vs_input(X, default_n_init=10)\n",
      "/Users/kennong/opt/anaconda3/lib/python3.9/site-packages/sklearn/base.py:1152: ConvergenceWarning: Number of distinct clusters (2) found smaller than n_clusters (19). Possibly due to duplicate points in X.\n",
      "  return fit_method(estimator, *args, **kwargs)\n",
      "/Users/kennong/opt/anaconda3/lib/python3.9/site-packages/sklearn/cluster/_kmeans.py:1416: FutureWarning: The default value of `n_init` will change from 10 to 'auto' in 1.4. Set the value of `n_init` explicitly to suppress the warning\n",
      "  super()._check_params_vs_input(X, default_n_init=10)\n",
      "/Users/kennong/opt/anaconda3/lib/python3.9/site-packages/sklearn/base.py:1152: ConvergenceWarning: Number of distinct clusters (2) found smaller than n_clusters (19). Possibly due to duplicate points in X.\n",
      "  return fit_method(estimator, *args, **kwargs)\n"
     ]
    },
    {
     "name": "stdout",
     "output_type": "stream",
     "text": [
      " \n",
      "iteration number 19 done!\n"
     ]
    },
    {
     "data": {
      "image/png": "[encoded data removed]",
      "text/plain": [
       "<Figure size 432x288 with 1 Axes>"
      ]
     },
     "metadata": {
      "needs_background": "light"
     },
     "output_type": "display_data"
    },
    {
     "name": "stdout",
     "output_type": "stream",
     "text": [
      "The optimal number of clusters based on the elbow method is: 17\n"
     ]
    },
    {
     "data": {
      "text/plain": [
       "17\n",
       "3    2800\n",
       "0    1978\n",
       "Name: count, dtype: int64"
      ]
     },
     "execution_count": 126,
     "metadata": {},
     "output_type": "execute_result"
    }
   ],
   "source": [
    "regime_dict3 = {}\n",
    "\n",
    "inertia_list3 = []\n",
    "\n",
    "#clustering to detect regime change \n",
    "max_clusters = len(pd.unique(X.index.year)) #10\n",
    "\n",
    "X_scaled = TimeSeriesScalerMeanVariance().fit_transform(spy_vix_diff5)\n",
    "X_scaled = X_scaled.reshape(X_scaled.shape[0], -1)\n",
    "\n",
    "# Compute DTW distances\n",
    "dtw_distances = pairwise_distances(X_scaled, metric=dtw)\n",
    "\n",
    "for num_cluster in range(2, max_clusters):\n",
    "    kmeans_model = KMeans(n_clusters=num_cluster, random_state=627)\n",
    "    kmeans_model.fit(dtw_distances)\n",
    "    inertia_list3.append(kmeans_model.inertia_)\n",
    "    spy_vix_diff5['cluster_label'] =\\\n",
    "    (kmeans_model\n",
    "             .fit_predict(dtw_distances)\n",
    "    )\n",
    "    \n",
    "    regime_dict3[num_cluster] = spy_vix_diff5['cluster_label']\n",
    "    print(\" \")\n",
    "    print(\"iteration number {} done!\".format(num_cluster))\n",
    "    \n",
    "    \n",
    "# Plot the elbow curve\n",
    "plt.plot(np.arange(len(inertia_list3)), inertia_list3, marker='o')\n",
    "plt.xlabel('Number of Clusters (k)')\n",
    "plt.ylabel('Inertia')\n",
    "plt.title('Elbow Method for Optimal k')\n",
    "plt.show()\n",
    "\n",
    "def find_optimal_clusters(inertia_values):\n",
    "    # Calculate the second derivative of the inertia values\n",
    "    second_derivative = np.gradient(np.gradient(inertia_values))\n",
    "    \n",
    "    # Find the index of the maximum value in the second derivative\n",
    "    optimal_index = np.argmax(second_derivative)\n",
    "    \n",
    "    # The optimal number of clusters is the index + 2 (since indexing starts from 0 and we start from k=2)\n",
    "    optimal_clusters = optimal_index + 2\n",
    "    \n",
    "    return optimal_clusters\n",
    "\n",
    "# Use the function to find the optimal number of clusters\n",
    "optimal_clusters3 = find_optimal_clusters(inertia_list3)\n",
    "\n",
    "print(f\"The optimal number of clusters based on the elbow method is: {optimal_clusters3}\")\n",
    "\n",
    "regime_dict_df3 = pd.DataFrame(regime_dict3, columns = regime_dict3.keys())\n",
    "regime_dict_df3[optimal_clusters3].value_counts()"
   ]
  },
  {
   "cell_type": "code",
   "execution_count": 130,
   "id": "a6afc92c",
   "metadata": {},
   "outputs": [
    {
     "data": {
      "image/png": "[encoded data removed]",
      "text/plain": [
       "<Figure size 1152x432 with 1 Axes>"
      ]
     },
     "metadata": {
      "needs_background": "light"
     },
     "output_type": "display_data"
    }
   ],
   "source": [
    "Y.cumsum().apply(np.exp).plot(figsize = [16, 6])\n",
    "\n",
    "regime_dict_df3[optimal_clusters3][regime_dict_df3[optimal_clusters3] == 0].plot(figsize = [16, 6],\n",
    "          marker = \"^\", \n",
    "          color = \"green\",\n",
    "          markersize = 1,\n",
    "          alpha = 0.2,\n",
    "        label = \"Regime 1\"\n",
    "         )\n",
    "\n",
    "regime_dict_df3[optimal_clusters3][regime_dict_df3[optimal_clusters3] == 3].plot(figsize = [16, 6],\n",
    "          marker = \"^\", \n",
    "          color = \"blue\",\n",
    "          markersize = 1,\n",
    "          alpha = 0.2,\n",
    "        label = \"Regime 2\"\n",
    "         )\n",
    "\n",
    "\n",
    "plt.title(\"Market Regimes from 2004 to 2023\")\n",
    "plt.legend()\n",
    "plt.show()"
   ]
  },
  {
   "cell_type": "code",
   "execution_count": 131,
   "id": "205162ac",
   "metadata": {},
   "outputs": [],
   "source": [
    "regime_dict_df3.to_excel(\"regime_dict_spy_vix_diff5.xlsx\")"
   ]
  },
  {
   "cell_type": "code",
   "execution_count": 132,
   "id": "4cf41db3",
   "metadata": {},
   "outputs": [],
   "source": [
    "#DTW doesn't work on spy_tnx_diff5 data as the pairwise function produces Nan values"
   ]
  },
  {
   "cell_type": "markdown",
   "id": "e06aa455",
   "metadata": {},
   "source": [
    "\n",
    "regime_dict4 = {}\n",
    "\n",
    "inertia_list4 = []\n",
    "\n",
    "#clustering to detect regime change \n",
    "max_clusters = len(pd.unique(X.index.year)) #10\n",
    "\n",
    "X_scaled = TimeSeriesScalerMeanVariance().fit_transform(spy_tnx_diff5)\n",
    "X_scaled = X_scaled.reshape(X_scaled.shape[0], -1)\n",
    "\n",
    "#Compute DTW distances\n",
    "dtw_distances = pairwise_distances(X_scaled, metric=dtw)\n",
    "\n",
    "for num_cluster in range(2, max_clusters):\n",
    "    kmeans_model = KMeans(n_clusters=num_cluster, random_state=627)\n",
    "    kmeans_model.fit(dtw_distances)\n",
    "    inertia_list4.append(kmeans_model.inertia_)\n",
    "    spy_tnx_diff5['cluster_label'] =\\\n",
    "    (kmeans_model\n",
    "             .fit_predict(dtw_distances)\n",
    "    )\n",
    "    \n",
    "    regime_dict4[num_cluster] = spy_tnx_diff5['cluster_label']\n",
    "    print(\" \")\n",
    "    print(\"iteration number {} done!\".format(num_cluster))\n",
    "    \n",
    "    \n",
    "#Plot the elbow curve\n",
    "plt.plot(np.arange(len(inertia_list4)), inertia_list4, marker='o')\n",
    "plt.xlabel('Number of Clusters (k)')\n",
    "plt.ylabel('Inertia')\n",
    "plt.title('Elbow Method for Optimal k')\n",
    "plt.show()\n",
    "\n",
    "def find_optimal_clusters(inertia_values):\n",
    "    # Calculate the second derivative of the inertia values\n",
    "    second_derivative = np.gradient(np.gradient(inertia_values4))\n",
    "    \n",
    "    # Find the index of the maximum value in the second derivative\n",
    "    optimal_index = np.argmax(second_derivative)\n",
    "    \n",
    "    # The optimal number of clusters is the index + 2 (since indexing starts from 0 and we start from k=2)\n",
    "    optimal_clusters = optimal_index + 2\n",
    "    \n",
    "    return optimal_clusters\n",
    "\n",
    "#Use the function to find the optimal number of clusters\n",
    "optimal_clusters4 = find_optimal_clusters(inertia_list)\n",
    "\n",
    "print(f\"The optimal number of clusters based on the elbow method is: {optimal_clusters4}\")\n",
    "\n",
    "regime_dict_df4 = pd.DataFrame(regime_dict4, columns = regime_dict4.keys())\n",
    "regime_dict_df4[optimal_clusters4].value_counts()"
   ]
  },
  {
   "cell_type": "markdown",
   "id": "d116be2c",
   "metadata": {},
   "source": [
    "regime_dict_df4.to_excel(\"regime_dict_spy_tnx_diff5.xlsx\")"
   ]
  }
 ],
 "metadata": {
  "kernelspec": {
   "display_name": "Python 3 (ipykernel)",
   "language": "python",
   "name": "python3"
  },
  "language_info": {
   "codemirror_mode": {
    "name": "ipython",
    "version": 3
   },
   "file_extension": ".py",
   "mimetype": "text/x-python",
   "name": "python",
   "nbconvert_exporter": "python",
   "pygments_lexer": "ipython3",
   "version": "3.9.12"
  }
 },
 "nbformat": 4,
 "nbformat_minor": 5
}
